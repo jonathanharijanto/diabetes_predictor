{
 "cells": [
  {
   "cell_type": "code",
   "execution_count": 13,
   "metadata": {},
   "outputs": [
    {
     "name": "stdout",
     "output_type": "stream",
     "text": [
      "(array([[103002708, 1688751, 'Caucasian', ..., 'No', 'Ch', 'Yes'],\n",
      "       [59649570, 17397162, 'Caucasian', ..., 'No', 'No', 'Yes'],\n",
      "       [201942228, 86275791, 'Caucasian', ..., 'No', 'No', 'No'],\n",
      "       ...,\n",
      "       [166244352, 24713415, 'AfricanAmerican', ..., 'No', 'No', 'No'],\n",
      "       [164811762, 50484015, 'AfricanAmerican', ..., 'No', 'Ch', 'Yes'],\n",
      "       [200398260, 89989299, 'Caucasian', ..., 'No', 'No', 'Yes']],\n",
      "      dtype=object), array([1, 1, 2, ..., 2, 1, 2]), array([[436765574, 85406454, 'Caucasian', ..., 'No', 'No', 'Yes'],\n",
      "       [15446892, 79963830, 'AfricanAmerican', ..., 'No', 'No', 'Yes'],\n",
      "       [47518116, 2912436, 'Caucasian', ..., 'No', 'No', 'Yes'],\n",
      "       ...,\n",
      "       [289020042, 38882943, 'Caucasian', ..., 'No', 'No', 'Yes'],\n",
      "       [438529178, 88785891, 'Caucasian', ..., 'No', 'No', 'No'],\n",
      "       [79571748, 2670120, 'Caucasian', ..., 'No', 'Ch', 'Yes']],\n",
      "      dtype=object), array([1, 1, 1, ..., 0, 0, 0]), array([[153548118, 100573605, 'Caucasian', ..., 'No', 'No', 'Yes'],\n",
      "       [37023612, 598338, 'Caucasian', ..., 'No', 'Ch', 'Yes'],\n",
      "       [151121442, 51819696, 'Caucasian', ..., 'No', 'No', 'Yes'],\n",
      "       ...,\n",
      "       [269113332, 85038084, 'Caucasian', ..., 'No', 'No', 'No'],\n",
      "       [37870290, 1281573, 'Caucasian', ..., 'No', 'No', 'No'],\n",
      "       [126311478, 23265909, 'AfricanAmerican', ..., 'No', 'Ch', 'Yes']],\n",
      "      dtype=object), array([1, 1, 1, ..., 0, 0, 0]), {'<30': 0, 'no': 1, '>30': 2})\n",
      "\n",
      "1. Train Features: --> len: 82433\n",
      "\n",
      "[[103002708 1688751 'Caucasian' ... 'No' 'Ch' 'Yes']\n",
      " [59649570 17397162 'Caucasian' ... 'No' 'No' 'Yes']\n",
      " [201942228 86275791 'Caucasian' ... 'No' 'No' 'No']\n",
      " ...\n",
      " [166244352 24713415 'AfricanAmerican' ... 'No' 'No' 'No']\n",
      " [164811762 50484015 'AfricanAmerican' ... 'No' 'Ch' 'Yes']\n",
      " [200398260 89989299 'Caucasian' ... 'No' 'No' 'Yes']]\n",
      "\n",
      "2. Train Labels: --> len: 82433\n",
      "\n",
      "[1 1 2 ... 2 1 2]\n",
      "\n",
      "3. Valid Features: --> len: 9158\n",
      "\n",
      "[[436765574 85406454 'Caucasian' ... 'No' 'No' 'Yes']\n",
      " [15446892 79963830 'AfricanAmerican' ... 'No' 'No' 'Yes']\n",
      " [47518116 2912436 'Caucasian' ... 'No' 'No' 'Yes']\n",
      " ...\n",
      " [289020042 38882943 'Caucasian' ... 'No' 'No' 'Yes']\n",
      " [438529178 88785891 'Caucasian' ... 'No' 'No' 'No']\n",
      " [79571748 2670120 'Caucasian' ... 'No' 'Ch' 'Yes']]\n",
      "\n",
      "4. Valid Labels: --> len: 9158\n",
      "\n",
      "[1 1 1 ... 0 0 0]\n",
      "\n",
      "5. Test Features: --> len: 10175\n",
      "\n",
      "[[153548118 100573605 'Caucasian' ... 'No' 'No' 'Yes']\n",
      " [37023612 598338 'Caucasian' ... 'No' 'Ch' 'Yes']\n",
      " [151121442 51819696 'Caucasian' ... 'No' 'No' 'Yes']\n",
      " ...\n",
      " [269113332 85038084 'Caucasian' ... 'No' 'No' 'No']\n",
      " [37870290 1281573 'Caucasian' ... 'No' 'No' 'No']\n",
      " [126311478 23265909 'AfricanAmerican' ... 'No' 'Ch' 'Yes']]\n",
      "\n",
      "6. Test Labels: --> len: 10175\n",
      "\n",
      "[1 1 1 ... 0 0 0]\n",
      "\n",
      "7. Label Dict: --> len: 3\n",
      "\n",
      "{'<30': 0, 'no': 1, '>30': 2}\n"
     ]
    }
   ],
   "source": [
    "import data_loader\n",
    "\n",
    "the_data = data_loader.load_dataset(\"dataset_diabetes/diabetic_data.csv\")\n",
    "print(the_data)\n",
    "\n",
    "outputs = [\"1. Train Features:\", \"2. Train Labels:\", \"3. Valid Features:\", \"4. Valid Labels:\", \"5. Test Features:\", \"6. Test Labels:\", \"7. Label Dict:\"]\n",
    "\n",
    "for i in range(len(the_data)):\n",
    "    print(\"\\n\" + outputs[i] + \" --> len: \" + str(len(the_data[i])) + \"\\n\\n\" + str(the_data[i]))"
   ]
  },
  {
   "cell_type": "code",
   "execution_count": 16,
   "metadata": {},
   "outputs": [
    {
     "name": "stdout",
     "output_type": "stream",
     "text": [
      "(101766, 50)\n"
     ]
    }
   ],
   "source": [
    "import pandas as pd\n",
    "\n",
    "# df == dataframe \n",
    "df = pd.read_csv(\"dataset_diabetes/diabetic_data.csv\")\n",
    "print(df.shape)"
   ]
  },
  {
   "cell_type": "code",
   "execution_count": 6,
   "metadata": {},
   "outputs": [
    {
     "name": "stdout",
     "output_type": "stream",
     "text": [
      "<class 'pandas.core.frame.DataFrame'>\n",
      "RangeIndex: 101766 entries, 0 to 101765\n",
      "Data columns (total 50 columns):\n",
      "encounter_id                101766 non-null int64\n",
      "patient_nbr                 101766 non-null int64\n",
      "race                        101766 non-null object\n",
      "gender                      101766 non-null object\n",
      "age                         101766 non-null object\n",
      "weight                      101766 non-null object\n",
      "admission_type_id           101766 non-null int64\n",
      "discharge_disposition_id    101766 non-null int64\n",
      "admission_source_id         101766 non-null int64\n",
      "time_in_hospital            101766 non-null int64\n",
      "payer_code                  101766 non-null object\n",
      "medical_specialty           101766 non-null object\n",
      "num_lab_procedures          101766 non-null int64\n",
      "num_procedures              101766 non-null int64\n",
      "num_medications             101766 non-null int64\n",
      "number_outpatient           101766 non-null int64\n",
      "number_emergency            101766 non-null int64\n",
      "number_inpatient            101766 non-null int64\n",
      "diag_1                      101766 non-null object\n",
      "diag_2                      101766 non-null object\n",
      "diag_3                      101766 non-null object\n",
      "number_diagnoses            101766 non-null int64\n",
      "max_glu_serum               101766 non-null object\n",
      "A1Cresult                   101766 non-null object\n",
      "metformin                   101766 non-null object\n",
      "repaglinide                 101766 non-null object\n",
      "nateglinide                 101766 non-null object\n",
      "chlorpropamide              101766 non-null object\n",
      "glimepiride                 101766 non-null object\n",
      "acetohexamide               101766 non-null object\n",
      "glipizide                   101766 non-null object\n",
      "glyburide                   101766 non-null object\n",
      "tolbutamide                 101766 non-null object\n",
      "pioglitazone                101766 non-null object\n",
      "rosiglitazone               101766 non-null object\n",
      "acarbose                    101766 non-null object\n",
      "miglitol                    101766 non-null object\n",
      "troglitazone                101766 non-null object\n",
      "tolazamide                  101766 non-null object\n",
      "examide                     101766 non-null object\n",
      "citoglipton                 101766 non-null object\n",
      "insulin                     101766 non-null object\n",
      "glyburide-metformin         101766 non-null object\n",
      "glipizide-metformin         101766 non-null object\n",
      "glimepiride-pioglitazone    101766 non-null object\n",
      "metformin-rosiglitazone     101766 non-null object\n",
      "metformin-pioglitazone      101766 non-null object\n",
      "change                      101766 non-null object\n",
      "diabetesMed                 101766 non-null object\n",
      "readmitted                  101766 non-null object\n",
      "dtypes: int64(13), object(37)\n",
      "memory usage: 38.8+ MB\n",
      "None\n"
     ]
    }
   ],
   "source": [
    "print(df.info())"
   ]
  },
  {
   "cell_type": "code",
   "execution_count": 7,
   "metadata": {},
   "outputs": [
    {
     "name": "stdout",
     "output_type": "stream",
     "text": [
      "       encounter_id   patient_nbr  admission_type_id  \\\n",
      "count  1.017660e+05  1.017660e+05      101766.000000   \n",
      "mean   1.652016e+08  5.433040e+07           2.024006   \n",
      "std    1.026403e+08  3.869636e+07           1.445403   \n",
      "min    1.252200e+04  1.350000e+02           1.000000   \n",
      "25%    8.496119e+07  2.341322e+07           1.000000   \n",
      "50%    1.523890e+08  4.550514e+07           1.000000   \n",
      "75%    2.302709e+08  8.754595e+07           3.000000   \n",
      "max    4.438672e+08  1.895026e+08           8.000000   \n",
      "\n",
      "       discharge_disposition_id  admission_source_id  time_in_hospital  \\\n",
      "count             101766.000000        101766.000000     101766.000000   \n",
      "mean                   3.715642             5.754437          4.395987   \n",
      "std                    5.280166             4.064081          2.985108   \n",
      "min                    1.000000             1.000000          1.000000   \n",
      "25%                    1.000000             1.000000          2.000000   \n",
      "50%                    1.000000             7.000000          4.000000   \n",
      "75%                    4.000000             7.000000          6.000000   \n",
      "max                   28.000000            25.000000         14.000000   \n",
      "\n",
      "       num_lab_procedures  num_procedures  num_medications  number_outpatient  \\\n",
      "count       101766.000000   101766.000000    101766.000000      101766.000000   \n",
      "mean            43.095641        1.339730        16.021844           0.369357   \n",
      "std             19.674362        1.705807         8.127566           1.267265   \n",
      "min              1.000000        0.000000         1.000000           0.000000   \n",
      "25%             31.000000        0.000000        10.000000           0.000000   \n",
      "50%             44.000000        1.000000        15.000000           0.000000   \n",
      "75%             57.000000        2.000000        20.000000           0.000000   \n",
      "max            132.000000        6.000000        81.000000          42.000000   \n",
      "\n",
      "       number_emergency  number_inpatient  number_diagnoses  \n",
      "count     101766.000000     101766.000000     101766.000000  \n",
      "mean           0.197836          0.635566          7.422607  \n",
      "std            0.930472          1.262863          1.933600  \n",
      "min            0.000000          0.000000          1.000000  \n",
      "25%            0.000000          0.000000          6.000000  \n",
      "50%            0.000000          0.000000          8.000000  \n",
      "75%            0.000000          1.000000          9.000000  \n",
      "max           76.000000         21.000000         16.000000  \n"
     ]
    }
   ],
   "source": [
    "print(df.describe())"
   ]
  },
  {
   "cell_type": "code",
   "execution_count": 49,
   "metadata": {},
   "outputs": [
    {
     "name": "stdout",
     "output_type": "stream",
     "text": [
      "age\n",
      " {'[0-10)': 161, '[10-20)': 691, '[20-30)': 1657, '[30-40)': 3775, '[40-50)': 9685, '[50-60)': 17256, '[60-70)': 22483, '[70-80)': 26068, '[80-90)': 17197, '[90-100)': 2793}\n"
     ]
    }
   ],
   "source": [
    "age_dict = {}\n",
    "for i in df['age']:\n",
    "    if i in age_dict:\n",
    "        age_dict[i] += 1\n",
    "    else:\n",
    "        age_dict[i] = 1\n",
    "\n",
    "print('age\\n', age_dict)"
   ]
  },
  {
   "cell_type": "code",
   "execution_count": 50,
   "metadata": {},
   "outputs": [
    {
     "name": "stdout",
     "output_type": "stream",
     "text": [
      "race\n",
      " {'Caucasian': 76099, 'AfricanAmerican': 19210, '?': 2273, 'Other': 1506, 'Asian': 641, 'Hispanic': 2037}\n"
     ]
    }
   ],
   "source": [
    "race_dict = {}\n",
    "for i in df['race']:\n",
    "    if i in race_dict:\n",
    "        race_dict[i] += 1\n",
    "    else:\n",
    "        race_dict[i] = 1\n",
    "print('race\\n', race_dict)"
   ]
  },
  {
   "cell_type": "code",
   "execution_count": 51,
   "metadata": {},
   "outputs": [
    {
     "name": "stdout",
     "output_type": "stream",
     "text": [
      "gender\n",
      " {'Female': 54708, 'Male': 47055, 'Unknown/Invalid': 3}\n"
     ]
    }
   ],
   "source": [
    "gender_dict = {}\n",
    "for i in df['gender']:\n",
    "    if i in gender_dict:\n",
    "        gender_dict[i] += 1\n",
    "    else:\n",
    "        gender_dict[i] = 1\n",
    "print('gender\\n', gender_dict)"
   ]
  },
  {
   "cell_type": "code",
   "execution_count": 44,
   "metadata": {},
   "outputs": [
    {
     "name": "stdout",
     "output_type": "stream",
     "text": [
      "A1Cresult\n",
      " {'None': 84748, '>7': 3812, '>8': 8216, 'Norm': 4990}\n"
     ]
    }
   ],
   "source": [
    "a1c_dict = {}\n",
    "for i in df['A1Cresult']:\n",
    "    if i in a1c_dict:\n",
    "        a1c_dict[i] += 1\n",
    "    else:\n",
    "        a1c_dict[i] = 1\n",
    "print('A1Cresult\\n', a1c_dict)"
   ]
  },
  {
   "cell_type": "code",
   "execution_count": 52,
   "metadata": {},
   "outputs": [
    {
     "name": "stdout",
     "output_type": "stream",
     "text": [
      "admission_type_id\n",
      " {6: 5291, 1: 53990, 2: 18480, 3: 18869, 4: 10, 5: 4785, 8: 320, 7: 21}\n"
     ]
    }
   ],
   "source": [
    "admission_type_id_dict = {}\n",
    "for i in df['admission_type_id']:\n",
    "    if i in admission_type_id_dict:\n",
    "        admission_type_id_dict[i] += 1\n",
    "    else:\n",
    "        admission_type_id_dict[i] = 1\n",
    "print('admission_type_id\\n', admission_type_id_dict)"
   ]
  },
  {
   "cell_type": "code",
   "execution_count": 47,
   "metadata": {},
   "outputs": [
    {
     "name": "stdout",
     "output_type": "stream",
     "text": [
      "discharge_disposition_id\n",
      " {25: 989, 1: 60234, 3: 13954, 6: 12902, 2: 2128, 5: 1184, 11: 1642, 7: 623, 10: 6, 4: 815, 14: 372, 18: 3691, 8: 108, 13: 399, 12: 3, 16: 11, 17: 14, 22: 1993, 23: 412, 9: 21, 20: 2, 15: 63, 24: 48, 28: 139, 19: 8, 27: 5}\n"
     ]
    }
   ],
   "source": [
    "discharge_disposition_id_dict = {}\n",
    "for i in df['discharge_disposition_id']:\n",
    "    if i in discharge_disposition_id_dict:\n",
    "        discharge_disposition_id_dict[i] += 1\n",
    "    else:\n",
    "        discharge_disposition_id_dict[i] = 1\n",
    "print('discharge_disposition_id\\n', discharge_disposition_id_dict)"
   ]
  },
  {
   "cell_type": "code",
   "execution_count": 48,
   "metadata": {},
   "outputs": [
    {
     "name": "stdout",
     "output_type": "stream",
     "text": [
      "admission_source_id\n",
      " {1: 29565, 7: 57494, 2: 1104, 4: 3187, 5: 855, 6: 2264, 20: 161, 3: 187, 17: 6781, 8: 16, 9: 125, 14: 2, 10: 8, 22: 12, 11: 2, 25: 2, 13: 1}\n"
     ]
    }
   ],
   "source": [
    "admission_source_id_dict = {}\n",
    "for i in df['admission_source_id']:\n",
    "    if i in admission_source_id_dict:\n",
    "        admission_source_id_dict[i] += 1\n",
    "    else:\n",
    "        admission_source_id_dict[i] = 1\n",
    "print('admission_source_id\\n', admission_source_id_dict)"
   ]
  },
  {
   "cell_type": "code",
   "execution_count": 36,
   "metadata": {},
   "outputs": [
    {
     "name": "stdout",
     "output_type": "stream",
     "text": [
      "List of Features that has '?' + the amount of '?':\n",
      "\n",
      "race 2273\n",
      "weight 98569\n",
      "payer_code 40256\n",
      "medical_specialty 49949\n",
      "diag_1 21\n",
      "diag_2 358\n",
      "diag_3 1423\n",
      "gender 3\n"
     ]
    }
   ],
   "source": [
    "print(\"List of Features that has '?' + the amount of '?':\\n\")\n",
    "\n",
    "for col in df.columns:\n",
    "    if df[col].dtype == object:\n",
    "        missing_val = df[col][df[col] == '?'].count()\n",
    "        if missing_val != 0:\n",
    "            print(col,missing_val)\n",
    "\n",
    "print('gender', df['gender'][df['gender'] == 'Unknown/Invalid'].count())"
   ]
  },
  {
   "cell_type": "code",
   "execution_count": null,
   "metadata": {},
   "outputs": [],
   "source": []
  }
 ],
 "metadata": {
  "kernelspec": {
   "display_name": "Python 3",
   "language": "python",
   "name": "python3"
  },
  "language_info": {
   "codemirror_mode": {
    "name": "ipython",
    "version": 3
   },
   "file_extension": ".py",
   "mimetype": "text/x-python",
   "name": "python",
   "nbconvert_exporter": "python",
   "pygments_lexer": "ipython3",
   "version": "3.6.5"
  }
 },
 "nbformat": 4,
 "nbformat_minor": 2
}
