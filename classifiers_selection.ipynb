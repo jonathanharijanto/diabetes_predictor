{
 "cells": [
  {
   "cell_type": "code",
   "execution_count": 1,
   "metadata": {},
   "outputs": [
    {
     "name": "stdout",
     "output_type": "stream",
     "text": [
      "<class 'pandas.core.frame.DataFrame'>\n",
      "RangeIndex: 61675 entries, 0 to 61674\n",
      "Data columns (total 20 columns):\n",
      "Unnamed: 0                  61675 non-null int64\n",
      "age                         61675 non-null float64\n",
      "time_in_hospital            61675 non-null float64\n",
      "num_lab_procedures          61675 non-null float64\n",
      "num_procedures              61675 non-null float64\n",
      "number_diagnoses            61675 non-null float64\n",
      "nummed                      61675 non-null float64\n",
      "numchange                   61675 non-null float64\n",
      "readmitted                  61675 non-null int64\n",
      "add_feature_1               61675 non-null float64\n",
      "add_feature_2               61675 non-null float64\n",
      "add_feature_3               61675 non-null float64\n",
      "number_outpatient           61675 non-null float64\n",
      "number_emergency            61675 non-null float64\n",
      "number_inpatient            61675 non-null float64\n",
      "race                        61675 non-null float64\n",
      "admission_type_id           61675 non-null int64\n",
      "discharge_disposition_id    61675 non-null int64\n",
      "admission_source_id         61675 non-null int64\n",
      "diag_1                      61675 non-null int64\n",
      "dtypes: float64(14), int64(6)\n",
      "memory usage: 9.4 MB\n"
     ]
    }
   ],
   "source": [
    "import numpy as np\n",
    "import pandas as pd\n",
    "import xgboost as xgb\n",
    "import time\n",
    "import warnings\n",
    "warnings.filterwarnings('ignore')\n",
    "from sklearn import svm\n",
    "from sklearn.neural_network import MLPClassifier\n",
    "from sklearn.model_selection import train_test_split\n",
    "from sklearn.ensemble import RandomForestClassifier\n",
    "from sklearn.model_selection import cross_val_score\n",
    "from sklearn.metrics import accuracy_score\n",
    "import matplotlib.pyplot as plt\n",
    "\n",
    "df = pd.read_csv(\"dataset_diabetes/diabetes_data_preprocessed_improved.csv\")\n",
    "\n",
    "df.shape\n",
    "df.info()\n",
    "\n",
    "df['readmitted'] = df['readmitted'].replace('>30', 2)\n",
    "df['readmitted'] = df['readmitted'].replace('<30', 1)\n",
    "df['readmitted'] = df['readmitted'].replace('NO', 0)"
   ]
  },
  {
   "cell_type": "code",
   "execution_count": 2,
   "metadata": {},
   "outputs": [],
   "source": [
    "feature_set_2_no_int = [\n",
    "'age',                        \n",
    "'time_in_hospital',           \n",
    "'num_lab_procedures',         \n",
    "'num_procedures',             \n",
    "'number_diagnoses',           \n",
    "'nummed',                       \n",
    "'numchange',                  \n",
    "'add_feature_1',               \n",
    "'add_feature_2',               \n",
    "'add_feature_3',\n",
    "'number_outpatient',\n",
    "'number_inpatient',\n",
    "'number_emergency',\n",
    "'race',\n",
    "'admission_type_id',\n",
    "'discharge_disposition_id',\n",
    "'admission_source_id',\n",
    "'diag_1'\n",
    "]\n",
    "\n",
    "the_input = df[feature_set_2_no_int]\n",
    "the_output = df['readmitted']\n",
    "\n",
    "from imblearn.over_sampling import SMOTE\n",
    "from collections import Counter\n",
    "\n",
    "smt = SMOTE(random_state=20)\n",
    "train_input_new, train_output_new = smt.fit_sample(the_input, the_output)\n",
    "train_input_new = pd.DataFrame(train_input_new, columns = list(the_input.columns))\n",
    "\n",
    "X_train, X_test, Y_train, Y_test = train_test_split(train_input_new, train_output_new, test_size=0.20, random_state=0)"
   ]
  },
  {
   "cell_type": "code",
   "execution_count": 3,
   "metadata": {},
   "outputs": [
    {
     "name": "stdout",
     "output_type": "stream",
     "text": [
      "--- 11.57411813735962 seconds ---\n",
      "Accuracy:  0.6156774222104192\n"
     ]
    }
   ],
   "source": [
    "# XGBOOST\n",
    "\n",
    "start_time = time.time()\n",
    "\n",
    "xg_reg = xgb.XGBClassifier()\n",
    "xg_reg.fit(X_train,Y_train)\n",
    "Y_test_predict = xg_reg.predict(X_test)\n",
    "\n",
    "print(\"--- %s seconds ---\" % (time.time() - start_time))\n",
    "\n",
    "print(\"Accuracy: \",accuracy_score(Y_test, Y_test_predict))"
   ]
  },
  {
   "cell_type": "code",
   "execution_count": 4,
   "metadata": {},
   "outputs": [
    {
     "name": "stdout",
     "output_type": "stream",
     "text": [
      "--- 1.7927067279815674 seconds ---\n",
      "Accuracy:  0.6708715088744301\n"
     ]
    }
   ],
   "source": [
    "# RANDOM FOREST\n",
    "\n",
    "start_time = time.time()\n",
    "\n",
    "forest = RandomForestClassifier()\n",
    "forest.fit(X_train, Y_train)\n",
    "Y_test_predict = forest.predict(X_test)\n",
    "\n",
    "print(\"--- %s seconds ---\" % (time.time() - start_time))\n",
    "\n",
    "print(\"Accuracy: \", accuracy_score(Y_test, Y_test_predict))"
   ]
  },
  {
   "cell_type": "code",
   "execution_count": 5,
   "metadata": {},
   "outputs": [
    {
     "name": "stdout",
     "output_type": "stream",
     "text": [
      "--- 26.854782342910767 seconds ---\n",
      "Accuracy:  0.5081662461824459\n"
     ]
    }
   ],
   "source": [
    "# NEURAL NETWORK\n",
    "\n",
    "start_time = time.time()\n",
    "\n",
    "clf = MLPClassifier()\n",
    "clf.fit(X_train,Y_train)\n",
    "Y_test_predict = clf.predict(X_test)\n",
    "\n",
    "print(\"--- %s seconds ---\" % (time.time() - start_time))\n",
    "\n",
    "print(\"Accuracy: \",accuracy_score(Y_test, Y_test_predict))"
   ]
  },
  {
   "cell_type": "code",
   "execution_count": 6,
   "metadata": {},
   "outputs": [
    {
     "name": "stdout",
     "output_type": "stream",
     "text": [
      "--- 683.699845790863 seconds ---\n",
      "Accuracy:  0.5651750542203338\n"
     ]
    }
   ],
   "source": [
    "# SVM\n",
    "\n",
    "start_time = time.time()\n",
    "\n",
    "clf = svm.SVC()\n",
    "clf.fit(X_train,Y_train)\n",
    "Y_test_predict = clf.predict(X_test)\n",
    "\n",
    "print(\"--- %s seconds ---\" % (time.time() - start_time))\n",
    "\n",
    "print(\"Accuracy: \",accuracy_score(Y_test, Y_test_predict))"
   ]
  },
  {
   "cell_type": "code",
   "execution_count": null,
   "metadata": {},
   "outputs": [],
   "source": []
  }
 ],
 "metadata": {
  "kernelspec": {
   "display_name": "Python 3",
   "language": "python",
   "name": "python3"
  },
  "language_info": {
   "codemirror_mode": {
    "name": "ipython",
    "version": 3
   },
   "file_extension": ".py",
   "mimetype": "text/x-python",
   "name": "python",
   "nbconvert_exporter": "python",
   "pygments_lexer": "ipython3",
   "version": "3.6.5"
  }
 },
 "nbformat": 4,
 "nbformat_minor": 2
}
