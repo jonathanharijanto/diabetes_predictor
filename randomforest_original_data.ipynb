{
 "cells": [
  {
   "cell_type": "code",
   "execution_count": 3,
   "metadata": {},
   "outputs": [
    {
     "name": "stdout",
     "output_type": "stream",
     "text": [
      "<class 'pandas.core.frame.DataFrame'>\n",
      "RangeIndex: 91023 entries, 0 to 91022\n",
      "Data columns (total 43 columns):\n",
      "Unnamed: 0                  91023 non-null int64\n",
      "encounter_id                91023 non-null int64\n",
      "patient_nbr                 91023 non-null int64\n",
      "race                        91023 non-null float64\n",
      "gender                      91023 non-null int64\n",
      "age                         91023 non-null float64\n",
      "admission_type_id           91023 non-null int64\n",
      "discharge_disposition_id    91023 non-null int64\n",
      "admission_source_id         91023 non-null int64\n",
      "time_in_hospital            91023 non-null float64\n",
      "num_medications             91023 non-null float64\n",
      "diag_1                      91023 non-null float64\n",
      "diag_2                      91023 non-null float64\n",
      "diag_3                      91023 non-null float64\n",
      "number_diagnoses            91023 non-null float64\n",
      "max_glu_serum               91023 non-null int64\n",
      "A1Cresult                   91023 non-null int64\n",
      "metformin                   91023 non-null int64\n",
      "repaglinide                 91023 non-null int64\n",
      "nateglinide                 91023 non-null int64\n",
      "chlorpropamide              91023 non-null int64\n",
      "glimepiride                 91023 non-null int64\n",
      "acetohexamide               91023 non-null int64\n",
      "glipizide                   91023 non-null int64\n",
      "glyburide                   91023 non-null int64\n",
      "tolbutamide                 91023 non-null int64\n",
      "pioglitazone                91023 non-null int64\n",
      "rosiglitazone               91023 non-null int64\n",
      "acarbose                    91023 non-null int64\n",
      "miglitol                    91023 non-null int64\n",
      "troglitazone                91023 non-null int64\n",
      "tolazamide                  91023 non-null int64\n",
      "insulin                     91023 non-null int64\n",
      "glyburide-metformin         91023 non-null int64\n",
      "glipizide-metformin         91023 non-null int64\n",
      "glimepiride-pioglitazone    91023 non-null int64\n",
      "metformin-rosiglitazone     91023 non-null int64\n",
      "metformin-pioglitazone      91023 non-null int64\n",
      "change                      91023 non-null int64\n",
      "diabetesMed                 91023 non-null int64\n",
      "readmitted                  91023 non-null object\n",
      "number_services             91023 non-null float64\n",
      "num_total_procedures        91023 non-null float64\n",
      "dtypes: float64(10), int64(32), object(1)\n",
      "memory usage: 29.9+ MB\n"
     ]
    }
   ],
   "source": [
    "import numpy as np\n",
    "import pandas as pd\n",
    "import xgboost as xgb\n",
    "import warnings\n",
    "warnings.filterwarnings('ignore')\n",
    "from sklearn.model_selection import train_test_split\n",
    "from sklearn.tree import DecisionTreeClassifier\n",
    "from sklearn.ensemble import RandomForestClassifier\n",
    "from sklearn.model_selection import cross_val_score\n",
    "from sklearn.metrics import accuracy_score\n",
    "import matplotlib.pyplot as plt\n",
    "\n",
    "df = pd.read_csv(\"~/Desktop/diabetes_data_preprocessed_original.csv\")\n",
    "\n",
    "df.shape\n",
    "df.info()\n",
    "\n",
    "df['readmitted'] = df['readmitted'].replace('>30', 2)\n",
    "df['readmitted'] = df['readmitted'].replace('<30', 1)\n",
    "df['readmitted'] = df['readmitted'].replace('NO', 0)"
   ]
  },
  {
   "cell_type": "code",
   "execution_count": 9,
   "metadata": {},
   "outputs": [],
   "source": [
    "feature_set = ['encounter_id',                \n",
    "'patient_nbr',                 \n",
    "'race',                        \n",
    "'gender',                      \n",
    "'age',                         \n",
    "'admission_type_id',           \n",
    "'discharge_disposition_id',    \n",
    "'admission_source_id',         \n",
    "'time_in_hospital',            \n",
    "'num_medications',             \n",
    "'diag_1',                      \n",
    "'diag_2',                      \n",
    "'diag_3',                      \n",
    "'number_diagnoses',            \n",
    "'max_glu_serum',               \n",
    "'A1Cresult',                   \n",
    "'metformin',                   \n",
    "'repaglinide',                 \n",
    "'nateglinide',                 \n",
    "'chlorpropamide',              \n",
    "'glimepiride',                 \n",
    "'acetohexamide',               \n",
    "'glipizide',                   \n",
    "'glyburide',                   \n",
    "'tolbutamide',                 \n",
    "'pioglitazone',                \n",
    "'rosiglitazone',               \n",
    "'acarbose',                    \n",
    "'miglitol',                    \n",
    "'troglitazone',                \n",
    "'tolazamide',                  \n",
    "'insulin',                     \n",
    "'glyburide-metformin',         \n",
    "'glipizide-metformin',         \n",
    "'glimepiride-pioglitazone',    \n",
    "'metformin-rosiglitazone',     \n",
    "'metformin-pioglitazone',      \n",
    "'change',                      \n",
    "'diabetesMed',                 \n",
    "'number_services',             \n",
    "'num_total_procedures']\n",
    "\n",
    "the_input = df[feature_set]\n",
    "the_output = df['readmitted']\n",
    "\n",
    "from imblearn.over_sampling import SMOTE\n",
    "from collections import Counter\n",
    "\n",
    "smt = SMOTE(random_state=20)\n",
    "train_input_new, train_output_new = smt.fit_sample(the_input, the_output)\n",
    "train_input_new = pd.DataFrame(train_input_new, columns = list(the_input.columns))\n",
    "\n",
    "X_train, X_test, Y_train, Y_test = train_test_split(train_input_new, train_output_new, test_size=0.20, random_state=0)"
   ]
  },
  {
   "cell_type": "code",
   "execution_count": 13,
   "metadata": {},
   "outputs": [
    {
     "name": "stdout",
     "output_type": "stream",
     "text": [
      "Accuracy:  0.649495925977075\n"
     ]
    }
   ],
   "source": [
    "# RANDOM FOREST\n",
    "\n",
    "forest = RandomForestClassifier(n_estimators =240, max_depth=80, criterion = \"entropy\", min_samples_split=10)\n",
    "\n",
    "#print(\"Cross Validation Score: \", np.mean(cross_val_score(forest, X_train, Y_train, cv=8)))\n",
    "forest.fit(X_train, Y_train)\n",
    "\n",
    "Y_test_predict = forest.predict(X_test)\n",
    "print(\"Accuracy: \", accuracy_score(Y_test, Y_test_predict))\n",
    "\n"
   ]
  },
  {
   "cell_type": "code",
   "execution_count": 14,
   "metadata": {},
   "outputs": [
    {
     "name": "stdout",
     "output_type": "stream",
     "text": [
      "Accuracy:  0.6511186300234775\n"
     ]
    }
   ],
   "source": [
    "forest = RandomForestClassifier(n_estimators =240, max_depth=80, criterion = \"gini\", min_samples_split=10)\n",
    "\n",
    "#print(\"Cross Validation Score: \", np.mean(cross_val_score(forest, X_train, Y_train, cv=8)))\n",
    "forest.fit(X_train, Y_train)\n",
    "\n",
    "Y_test_predict2 = forest.predict(X_test)\n",
    "print(\"Accuracy: \", accuracy_score(Y_test, Y_test_predict2))"
   ]
  },
  {
   "cell_type": "code",
   "execution_count": null,
   "metadata": {},
   "outputs": [
    {
     "ename": "NameError",
     "evalue": "name 'X_train' is not defined",
     "output_type": "error",
     "traceback": [
      "\u001b[0;31m---------------------------------------------------------------------------\u001b[0m",
      "\u001b[0;31mNameError\u001b[0m                                 Traceback (most recent call last)",
      "\u001b[0;32m<ipython-input-3-6a70890813fa>\u001b[0m in \u001b[0;36m<module>\u001b[0;34m\u001b[0m\n\u001b[1;32m      1\u001b[0m \u001b[0;31m# RANDOM FOREST TOP FEATURES DIAGRAM\u001b[0m\u001b[0;34m\u001b[0m\u001b[0;34m\u001b[0m\u001b[0m\n\u001b[1;32m      2\u001b[0m \u001b[0;34m\u001b[0m\u001b[0m\n\u001b[0;32m----> 3\u001b[0;31m \u001b[0mfeature_names\u001b[0m \u001b[0;34m=\u001b[0m \u001b[0mX_train\u001b[0m\u001b[0;34m.\u001b[0m\u001b[0mcolumns\u001b[0m\u001b[0;34m\u001b[0m\u001b[0m\n\u001b[0m\u001b[1;32m      4\u001b[0m \u001b[0mfeature_imports\u001b[0m \u001b[0;34m=\u001b[0m \u001b[0mforest\u001b[0m\u001b[0;34m.\u001b[0m\u001b[0mfeature_importances_\u001b[0m\u001b[0;34m\u001b[0m\u001b[0m\n\u001b[1;32m      5\u001b[0m \u001b[0mmost_imp_features\u001b[0m \u001b[0;34m=\u001b[0m \u001b[0mpd\u001b[0m\u001b[0;34m.\u001b[0m\u001b[0mDataFrame\u001b[0m\u001b[0;34m(\u001b[0m\u001b[0;34m[\u001b[0m\u001b[0mf\u001b[0m \u001b[0;32mfor\u001b[0m \u001b[0mf\u001b[0m \u001b[0;32min\u001b[0m \u001b[0mzip\u001b[0m\u001b[0;34m(\u001b[0m\u001b[0mfeature_names\u001b[0m\u001b[0;34m,\u001b[0m\u001b[0mfeature_imports\u001b[0m\u001b[0;34m)\u001b[0m\u001b[0;34m]\u001b[0m\u001b[0;34m,\u001b[0m \u001b[0mcolumns\u001b[0m\u001b[0;34m=\u001b[0m\u001b[0;34m[\u001b[0m\u001b[0;34m\"Feature\"\u001b[0m\u001b[0;34m,\u001b[0m \u001b[0;34m\"Importance\"\u001b[0m\u001b[0;34m]\u001b[0m\u001b[0;34m)\u001b[0m\u001b[0;34m.\u001b[0m\u001b[0mnlargest\u001b[0m\u001b[0;34m(\u001b[0m\u001b[0;36m10\u001b[0m\u001b[0;34m,\u001b[0m \u001b[0;34m\"Importance\"\u001b[0m\u001b[0;34m)\u001b[0m\u001b[0;34m\u001b[0m\u001b[0m\n",
      "\u001b[0;31mNameError\u001b[0m: name 'X_train' is not defined"
     ]
    }
   ],
   "source": [
    "# RANDOM FOREST TOP FEATURES DIAGRAM\n",
    "\n",
    "feature_names = X_train.columns\n",
    "feature_imports = forest.feature_importances_\n",
    "most_imp_features = pd.DataFrame([f for f in zip(feature_names,feature_imports)], columns=[\"Feature\", \"Importance\"]).nlargest(10, \"Importance\")\n",
    "most_imp_features.sort_values(by=\"Importance\", inplace=True)\n",
    "plt.figure(figsize=(10,6))\n",
    "plt.barh(range(len(most_imp_features)), most_imp_features.Importance, align='center', alpha=0.8)\n",
    "plt.yticks(range(len(most_imp_features)), most_imp_features.Feature, fontsize=14)\n",
    "plt.xlabel('Importance')\n",
    "plt.title('Random Forest -- Top 10 Important Features')\n",
    "plt.show()"
   ]
  },
  {
   "cell_type": "code",
   "execution_count": 10,
   "metadata": {},
   "outputs": [
    {
     "name": "stdout",
     "output_type": "stream",
     "text": [
      "0.6544330893522994 0.646653084477849 1.0\n",
      "0.6586797403673526 0.648232666074634 1.0\n",
      "0.6535008976660682 0.6472659767817955 1.0\n",
      "0.6560557933987018 0.647067459246978 1.0\n",
      "0.6556414859825991 0.6486469699149288 1.0\n",
      "0.6561938958707361 0.6485606779222872 1.0\n",
      "0.6571606131749759 0.648094542142484 1.0\n",
      "0.6582999585692584 0.6489404811776163 1.0\n",
      "0.6552271785664964 0.6493979187975876 1.0\n",
      "0.6591285734014639 0.6487419105962144 1.0\n",
      "0.6559867421626847 0.648741906424027 1.0\n",
      "0.6577475486811214 0.6488196361488988 1.0\n",
      "0.6576439718270957 0.6496310096303226 1.0\n",
      "0.6565046264328132 0.6500884591706416 1.0\n",
      "0.6571260875569672 0.649630961355351 1.0\n",
      "0.6560903190167104 0.6492943181001503 1.0\n"
     ]
    }
   ],
   "source": [
    "K3 = [150,200,250,300,350,400] # Or something else# #\n",
    "A2 = [40,60,80,100] # Or something else \n",
    "temp4 = np.zeros((len(K3),len(A2)))\n",
    "temp4_tr = np.zeros((len(K3),len(A2)))\n",
    "cross_auc = np.zeros((len(K3),len(A2)))\n",
    "for i,k in enumerate(K3):\n",
    "    for j,a in enumerate(A2):\n",
    "        \n",
    "        forest = RandomForestClassifier(n_estimators = k, max_depth=a, criterion = \"gini\", \n",
    "                                        min_samples_split=2)\n",
    "        forest.fit(X_train, Y_train)\n",
    "        Y_test_predict = forest.predict(X_test)\n",
    "        temp4[i][j]=accuracy_score(Y_test, Y_test_predict)\n",
    "        Y_train_predict = forest.predict(X_train)\n",
    "        temp4_tr[i][j]=accuracy_score(Y_train, Y_train_predict)\n",
    "        cross_auc[i][j] = np.mean(cross_val_score(forest, X_train, Y_train, cv=8))\n",
    "        print(temp4[i][j],cross_auc[i][j],temp4_tr[i][j])"
   ]
  },
  {
   "cell_type": "code",
   "execution_count": null,
   "metadata": {},
   "outputs": [],
   "source": [
    "K3 = [150,200,250,300,350,400] # Or something else# #\n",
    "A2 = [40,60,80,100] # Or something else \n",
    "tryd = np.zeros((len(K3),len(A2)))\n",
    "for i,k in enumerate(K3):\n",
    "    for j,a in enumerate(A2):\n",
    "        tryd[i][j]=i*j\n",
    "print(tryd)       "
   ]
  },
  {
   "cell_type": "code",
   "execution_count": null,
   "metadata": {},
   "outputs": [
    {
     "ename": "NameError",
     "evalue": "name 'A2' is not defined",
     "output_type": "error",
     "traceback": [
      "\u001b[0;31m---------------------------------------------------------------------------\u001b[0m",
      "\u001b[0;31mNameError\u001b[0m                                 Traceback (most recent call last)",
      "\u001b[0;32m<ipython-input-2-c95a1ddf9a06>\u001b[0m in \u001b[0;36m<module>\u001b[0;34m\u001b[0m\n\u001b[0;32m----> 1\u001b[0;31m \u001b[0mAA\u001b[0m\u001b[0;34m=\u001b[0m\u001b[0mlist\u001b[0m\u001b[0;34m(\u001b[0m\u001b[0mA2\u001b[0m\u001b[0;34m)\u001b[0m\u001b[0;34m\u001b[0m\u001b[0m\n\u001b[0m\u001b[1;32m      2\u001b[0m \u001b[0mKK\u001b[0m\u001b[0;34m=\u001b[0m\u001b[0mlist\u001b[0m\u001b[0;34m(\u001b[0m\u001b[0mK3\u001b[0m\u001b[0;34m)\u001b[0m\u001b[0;34m\u001b[0m\u001b[0m\n\u001b[1;32m      3\u001b[0m \u001b[0mf\u001b[0m\u001b[0;34m,\u001b[0m \u001b[0max\u001b[0m \u001b[0;34m=\u001b[0m \u001b[0mplt\u001b[0m\u001b[0;34m.\u001b[0m\u001b[0msubplots\u001b[0m\u001b[0;34m(\u001b[0m\u001b[0;36m1\u001b[0m\u001b[0;34m,\u001b[0m \u001b[0;36m1\u001b[0m\u001b[0;34m,\u001b[0m \u001b[0mfigsize\u001b[0m\u001b[0;34m=\u001b[0m\u001b[0;34m(\u001b[0m\u001b[0;36m8\u001b[0m\u001b[0;34m,\u001b[0m \u001b[0;36m5\u001b[0m\u001b[0;34m)\u001b[0m\u001b[0;34m)\u001b[0m\u001b[0;34m\u001b[0m\u001b[0m\n\u001b[1;32m      4\u001b[0m \u001b[0mcax\u001b[0m \u001b[0;34m=\u001b[0m \u001b[0max\u001b[0m\u001b[0;34m.\u001b[0m\u001b[0mmatshow\u001b[0m\u001b[0;34m(\u001b[0m\u001b[0mtemp4\u001b[0m\u001b[0;34m,\u001b[0m \u001b[0minterpolation\u001b[0m\u001b[0;34m=\u001b[0m\u001b[0;34m'nearest'\u001b[0m\u001b[0;34m)\u001b[0m\u001b[0;34m\u001b[0m\u001b[0m\n\u001b[1;32m      5\u001b[0m \u001b[0mf\u001b[0m\u001b[0;34m.\u001b[0m\u001b[0mcolorbar\u001b[0m\u001b[0;34m(\u001b[0m\u001b[0mcax\u001b[0m\u001b[0;34m)\u001b[0m\u001b[0;34m\u001b[0m\u001b[0m\n",
      "\u001b[0;31mNameError\u001b[0m: name 'A2' is not defined"
     ]
    }
   ],
   "source": [
    "K3 = [150,200,250,300,350,400] # Or something else# #\n",
    "A2 = [40,60,80,100] # Or something else \n",
    "AA=list(A2)\n",
    "KK=list(K3)\n",
    "f, ax = plt.subplots(1, 1, figsize=(8, 5))\n",
    "cax = ax.matshow(temp4, interpolation='nearest') \n",
    "f.colorbar(cax)\n",
    "ax.set_xticklabels(AA) \n",
    "ax.set_yticks(np.arange(0, len(temp4), 1)) \n",
    "ax.set_xticks(np.arange(0, 6, 1)) \n",
    "ax.set_yticklabels(KK)\n",
    "plt.grid()\n",
    "plt.ylabel('N_estimator')\n",
    "plt.xlabel(\"Max_depth\")\n",
    "plt.title(\"Accuracy of RandomForest subjects to N_estimator and Max_depth\")\n",
    "plt.show()"
   ]
  },
  {
   "cell_type": "code",
   "execution_count": 16,
   "metadata": {},
   "outputs": [
    {
     "name": "stdout",
     "output_type": "stream",
     "text": [
      "0.656746305758873 0.6498985402588763 1.0\n",
      "0.6547438199143765 0.646385502594813 0.9833498770014242\n",
      "0.6514984118215716 0.6442880784504333 0.9340382374519874\n",
      "0.6488399392349123 0.6414569765758689 0.8882568728151569\n",
      "0.6461124154122359 0.6401363281754513 0.8471796642354668\n",
      "0.6574368181190443 0.6488109958041359 0.9999827370419921\n",
      "0.652879436541914 0.6464632132478859 0.9834189288334556\n",
      "0.6519127192376744 0.6444175447488223 0.9344784428811876\n",
      "0.6477005938406297 0.6423287412783107 0.8859177420050925\n",
      "0.6472517608065185 0.6404470873467907 0.8480514436148634\n",
      "0.6561938958707361 0.6491475997209218 0.999292218721678\n",
      "0.6540187819361967 0.6457727104215564 0.9834016658754478\n",
      "0.6514984118215716 0.643519865567822 0.9347201242932976\n",
      "0.6491161441789808 0.641448343382475 0.8861421604591947\n",
      "0.6462850435022787 0.6400845677601689 0.8478270251607612\n",
      "0.6557450628366248 0.6467394456099393 0.9960726770532131\n",
      "0.6539497307001796 0.6466445049268428 0.9752190237797247\n",
      "0.6514984118215716 0.6432091469249404 0.9334512968797204\n",
      "0.6490125673249552 0.6422683423081449 0.8876871952008977\n",
      "0.6459052617041845 0.6394285422774524 0.8483190194639851\n"
     ]
    }
   ],
   "source": [
    "M = [2,3,4,5] # Or something else# #\n",
    "L = [1,2,3,4,5] # Or something else \n",
    "te1 = np.zeros((len(M),len(L)))\n",
    "tr1=np.zeros((len(M),len(L)))\n",
    "cross_auc2 = np.zeros((len(M),len(L)))\n",
    "for i,k in enumerate(M):\n",
    "    for j,a in enumerate(L):\n",
    "       \n",
    "        forest = RandomForestClassifier(n_estimators = 240, max_depth=80, criterion = \"gini\",  \n",
    "                                        min_samples_split=k,min_samples_leaf=a)\n",
    "        forest.fit(X_train, Y_train)\n",
    "        Y_test_predict = forest.predict(X_test)                                              \n",
    "        Y_train_predict = forest.predict(X_train)\n",
    "        cross_auc2[i][j] = np.mean(cross_val_score(forest, X_train, Y_train, cv=8))\n",
    "        te1[i][j]=accuracy_score(Y_test, Y_test_predict)\n",
    "        tr1[i][j]=accuracy_score(Y_train,Y_train_predict)\n",
    "        print(te1[i][j],cross_auc2[i][j],tr1[i][j])"
   ]
  },
  {
   "cell_type": "code",
   "execution_count": 25,
   "metadata": {},
   "outputs": [
    {
     "data": {
      "image/png": "[encoded data removed]",
      "text/plain": [
       "<Figure size 576x360 with 2 Axes>"
      ]
     },
     "metadata": {},
     "output_type": "display_data"
    }
   ],
   "source": [
    "AA=list(L)\n",
    "KK=list(M)\n",
    "f, ax = plt.subplots(1, 1, figsize=(8, 5))\n",
    "cax = ax.matshow(te1, interpolation='nearest') \n",
    "f.colorbar(cax)\n",
    "ax.set_xticklabels(AA) \n",
    "ax.set_yticks(np.arange(0, 4, 1)) \n",
    "ax.set_xticks(np.arange(0, 5, 1)) \n",
    "ax.set_yticklabels(KK)\n",
    "plt.grid()\n",
    "plt.ylabel('Min_samples_split')\n",
    "plt.xlabel(\"Min_samples_leaf\")\n",
    "plt.title(\"Accuracy of RandomForest subjects to Min_samples_split and Min_samples_leaf\")\n",
    "plt.show()"
   ]
  },
  {
   "cell_type": "code",
   "execution_count": 27,
   "metadata": {},
   "outputs": [
    {
     "data": {
      "image/png": "[encoded data removed]",
      "text/plain": [
       "<Figure size 576x360 with 2 Axes>"
      ]
     },
     "metadata": {},
     "output_type": "display_data"
    }
   ],
   "source": [
    "AA=list(L)\n",
    "KK=list(M)\n",
    "f, ax = plt.subplots(1, 1, figsize=(8, 5))\n",
    "cax = ax.matshow(tr1, interpolation='nearest') \n",
    "f.colorbar(cax)\n",
    "ax.set_xticklabels(AA) \n",
    "ax.set_yticks(np.arange(0, 4, 1)) \n",
    "ax.set_xticks(np.arange(0, 5, 1)) \n",
    "ax.set_yticklabels(KK)\n",
    "plt.grid()\n",
    "plt.ylabel('Min_samples_split')\n",
    "plt.xlabel(\"Min_samples_leaf\")\n",
    "plt.title(\"Training accuracy of RandomForest subjects to Min_samples_split and Min_samples_leaf\")\n",
    "plt.show()"
   ]
  },
  {
   "cell_type": "code",
   "execution_count": 29,
   "metadata": {},
   "outputs": [
    {
     "data": {
      "image/png": "[encoded data removed]",
      "text/plain": [
       "<Figure size 576x360 with 2 Axes>"
      ]
     },
     "metadata": {},
     "output_type": "display_data"
    }
   ],
   "source": [
    "AA=list(L)\n",
    "KK=list(M)\n",
    "f, ax = plt.subplots(1, 1, figsize=(8, 5))\n",
    "cax = ax.matshow(cross_auc2, interpolation='nearest') \n",
    "f.colorbar(cax)\n",
    "ax.set_xticklabels(AA) \n",
    "ax.set_yticks(np.arange(0, 4, 1)) \n",
    "ax.set_xticks(np.arange(0, 5, 1)) \n",
    "ax.set_yticklabels(KK)\n",
    "plt.grid()\n",
    "plt.ylabel('Min_samples_split')\n",
    "plt.xlabel(\"Min_samples_leaf\")\n",
    "plt.title(\"Cross_validation accuracy of RandomForest subjects to Min_samples_split and Min_samples_leaf\")\n",
    "plt.show()"
   ]
  },
  {
   "cell_type": "code",
   "execution_count": null,
   "metadata": {},
   "outputs": [],
   "source": []
  }
 ],
 "metadata": {
  "kernelspec": {
   "display_name": "Python 3",
   "language": "python",
   "name": "python3"
  },
  "language_info": {
   "codemirror_mode": {
    "name": "ipython",
    "version": 3
   },
   "file_extension": ".py",
   "mimetype": "text/x-python",
   "name": "python",
   "nbconvert_exporter": "python",
   "pygments_lexer": "ipython3",
   "version": "3.6.5"
  }
 },
 "nbformat": 4,
 "nbformat_minor": 2
}
