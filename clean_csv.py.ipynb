{
 "cells": [
  {
   "cell_type": "code",
   "execution_count": 37,
   "metadata": {},
   "outputs": [
    {
     "name": "stdout",
     "output_type": "stream",
     "text": [
      "(101766, 50)\n",
      "(101766, 50)\n",
      "(101766, 45)\n"
     ]
    }
   ],
   "source": [
    "import pandas as pd\n",
    "import numpy as np\n",
    "\n",
    "df_ori = pd.read_csv(\"dataset_diabetes/diabetic_data.csv\")\n",
    "print(df_ori.shape)\n",
    "\n",
    "df = df_ori.copy(deep=True)\n",
    "print(df.shape)\n",
    "\n",
    "#df = df.drop(['weight', 'payer_code', 'medical_specialty', 'metformin', 'repaglinide', 'nateglinide', 'chlorpropamide', 'glimepiride', 'acetohexamide', 'glipizide', 'glyburide', 'tolbutamide', 'pioglitazone', 'rosiglitazone', 'acarbose', 'miglitol', 'troglitazone', 'tolazamide', 'examide', 'citoglipton', 'insulin', 'glyburide-metformin', 'glipizide-metformin', 'glimepiride-pioglitazone', 'metformin-rosiglitazone', 'metformin-pioglitazone'], axis = 1)\n",
    "df = df.drop(['weight', 'payer_code', 'medical_specialty', 'examide', 'citoglipton'], axis = 1)\n",
    "\n",
    "print(df.shape)"
   ]
  },
  {
   "cell_type": "code",
   "execution_count": 9,
   "metadata": {},
   "outputs": [],
   "source": [
    "df['race'] = df['race'].replace('?','Other')\n",
    "\n",
    "df = df.join(pd.get_dummies(pd.DataFrame(df['race'])))\n",
    "#print(df)\n",
    "\n",
    "#df.to_csv('dataset_diabetes/diabetes_data_preprocessed.csv')"
   ]
  },
  {
   "cell_type": "code",
   "execution_count": 10,
   "metadata": {},
   "outputs": [],
   "source": [
    "#df = pd.read_csv('dataset_diabetes/diabetes_data_preprocessed.csv')\n",
    "\n",
    "df['gender'] = df['gender'].replace('Unknown/Invalid', 'Male')\n",
    "\n",
    "df = df.join(pd.get_dummies(pd.DataFrame(df['gender'])))\n",
    "#print(df)"
   ]
  },
  {
   "cell_type": "code",
   "execution_count": 11,
   "metadata": {},
   "outputs": [],
   "source": [
    "df = df.join(pd.get_dummies(pd.DataFrame(df['A1Cresult'])))\n",
    "#print(df)"
   ]
  },
  {
   "cell_type": "code",
   "execution_count": 38,
   "metadata": {},
   "outputs": [],
   "source": [
    "df.loc[df['diag_1'].str.contains('V',na=False), ['diag_1']] = 0\n",
    "df.loc[df['diag_1'].str.contains('E',na=False), ['diag_1']] = 0\n",
    "\n",
    "df['diag_1'] = df['diag_1'].replace('?', -1)\n",
    "\n",
    "df['diag_1'] = pd.to_numeric(df['diag_1'], errors='coerce')\n",
    "\n",
    "for index, row in df.iterrows():\n",
    "    if (row['diag_1'] >= 1 and row['diag_1'] <= 139):\n",
    "        df.loc[index, 'diag_1'] = 1\n",
    "    elif (row['diag_1'] >= 140 and row['diag_1'] <= 239):\n",
    "        df.loc[index, 'diag_1'] = 2\n",
    "    elif (row['diag_1'] >= 240  and row['diag_1'] <= 279):\n",
    "        df.loc[index, 'diag_1'] = 3\n",
    "    elif (row['diag_1'] >= 280 and row['diag_1'] <= 289):\n",
    "        df.loc[index, 'diag_1'] = 4\n",
    "    elif (row['diag_1'] >= 290 and row['diag_1'] <= 319):\n",
    "        df.loc[index, 'diag_1'] = 5\n",
    "    elif (row['diag_1'] >= 320  and row['diag_1'] <= 389):\n",
    "        df.loc[index, 'diag_1'] = 6\n",
    "    elif (row['diag_1'] >= 390 and row['diag_1'] <= 459):\n",
    "        df.loc[index, 'diag_1'] = 7\n",
    "    elif (row['diag_1'] >= 460 and row['diag_1'] <= 519):\n",
    "        df.loc[index, 'diag_1'] = 8\n",
    "    elif (row['diag_1'] >= 520  and row['diag_1'] <= 579):\n",
    "        df.loc[index, 'diag_1'] = 9\n",
    "    elif (row['diag_1'] >= 580 and row['diag_1'] <= 629):\n",
    "        df.loc[index, 'diag_1'] = 10\n",
    "    elif (row['diag_1'] >= 630 and row['diag_1'] <= 679):\n",
    "        df.loc[index, 'diag_1'] = 11\n",
    "    elif (row['diag_1'] >= 680 and row['diag_1'] <= 709):\n",
    "        df.loc[index, 'diag_1'] = 12\n",
    "    elif (row['diag_1'] >= 710  and row['diag_1'] <= 739):\n",
    "        df.loc[index, 'diag_1'] = 13\n",
    "    elif (row['diag_1'] >= 740 and row['diag_1'] <= 759):\n",
    "        df.loc[index, 'diag_1'] = 14\n",
    "    elif (row['diag_1'] >= 760 and row['diag_1'] <= 779):\n",
    "        df.loc[index, 'diag_1'] = 15\n",
    "    elif (row['diag_1'] >= 780 and row['diag_1'] <= 799):\n",
    "        df.loc[index, 'diag_1'] = 16\n",
    "    elif (row['diag_1'] >= 800  and row['diag_1'] <= 999):\n",
    "        df.loc[index, 'diag_1'] = 17"
   ]
  },
  {
   "cell_type": "code",
   "execution_count": 39,
   "metadata": {},
   "outputs": [],
   "source": [
    "df.loc[df['diag_2'].str.contains('V',na=False), ['diag_2']] = 0\n",
    "df.loc[df['diag_2'].str.contains('E',na=False), ['diag_2']] = 0\n",
    "\n",
    "df['diag_2'] = df['diag_2'].replace('?', -1)\n",
    "\n",
    "df['diag_2'] = pd.to_numeric(df['diag_2'], errors='coerce')\n",
    "\n",
    "for index, row in df.iterrows():\n",
    "    if (row['diag_2'] >= 1 and row['diag_2'] <= 139):\n",
    "        df.loc[index, 'diag_2'] = 1\n",
    "    elif (row['diag_2'] >= 140 and row['diag_2'] <= 239):\n",
    "        df.loc[index, 'diag_2'] = 2\n",
    "    elif (row['diag_2'] >= 240  and row['diag_2'] <= 279):\n",
    "        df.loc[index, 'diag_2'] = 3\n",
    "    elif (row['diag_2'] >= 280 and row['diag_2'] <= 289):\n",
    "        df.loc[index, 'diag_2'] = 4\n",
    "    elif (row['diag_2'] >= 290 and row['diag_2'] <= 319):\n",
    "        df.loc[index, 'diag_2'] = 5\n",
    "    elif (row['diag_2'] >= 320  and row['diag_2'] <= 389):\n",
    "        df.loc[index, 'diag_2'] = 6\n",
    "    elif (row['diag_2'] >= 390 and row['diag_2'] <= 459):\n",
    "        df.loc[index, 'diag_2'] = 7\n",
    "    elif (row['diag_2'] >= 460 and row['diag_2'] <= 519):\n",
    "        df.loc[index, 'diag_2'] = 8\n",
    "    elif (row['diag_2'] >= 520  and row['diag_2'] <= 579):\n",
    "        df.loc[index, 'diag_2'] = 9\n",
    "    elif (row['diag_2'] >= 580 and row['diag_2'] <= 629):\n",
    "        df.loc[index, 'diag_2'] = 10\n",
    "    elif (row['diag_2'] >= 630 and row['diag_2'] <= 679):\n",
    "        df.loc[index, 'diag_2'] = 11\n",
    "    elif (row['diag_2'] >= 680 and row['diag_2'] <= 709):\n",
    "        df.loc[index, 'diag_2'] = 12\n",
    "    elif (row['diag_2'] >= 710  and row['diag_2'] <= 739):\n",
    "        df.loc[index, 'diag_2'] = 13\n",
    "    elif (row['diag_2'] >= 740 and row['diag_2'] <= 759):\n",
    "        df.loc[index, 'diag_2'] = 14\n",
    "    elif (row['diag_2'] >= 760 and row['diag_2'] <= 779):\n",
    "        df.loc[index, 'diag_2'] = 15\n",
    "    elif (row['diag_2'] >= 780 and row['diag_2'] <= 799):\n",
    "        df.loc[index, 'diag_2'] = 16\n",
    "    elif (row['diag_2'] >= 800  and row['diag_2'] <= 999):\n",
    "        df.loc[index, 'diag_2'] = 17"
   ]
  },
  {
   "cell_type": "code",
   "execution_count": 40,
   "metadata": {},
   "outputs": [],
   "source": [
    "df.loc[df['diag_3'].str.contains('V',na=False), ['diag_3']] = 0\n",
    "df.loc[df['diag_3'].str.contains('E',na=False), ['diag_3']] = 0\n",
    "\n",
    "df['diag_3'] = df['diag_3'].replace('?', -1)\n",
    "\n",
    "df['diag_3'] = pd.to_numeric(df['diag_3'], errors='coerce')\n",
    "\n",
    "for index, row in df.iterrows():\n",
    "    if (row['diag_3'] >= 1 and row['diag_3'] <= 139):\n",
    "        df.loc[index, 'diag_3'] = 1\n",
    "    elif (row['diag_3'] >= 140 and row['diag_3'] <= 239):\n",
    "        df.loc[index, 'diag_3'] = 2\n",
    "    elif (row['diag_3'] >= 240  and row['diag_3'] <= 279):\n",
    "        df.loc[index, 'diag_3'] = 3\n",
    "    elif (row['diag_3'] >= 280 and row['diag_3'] <= 289):\n",
    "        df.loc[index, 'diag_3'] = 4\n",
    "    elif (row['diag_3'] >= 290 and row['diag_3'] <= 319):\n",
    "        df.loc[index, 'diag_3'] = 5\n",
    "    elif (row['diag_3'] >= 320  and row['diag_3'] <= 389):\n",
    "        df.loc[index, 'diag_3'] = 6\n",
    "    elif (row['diag_3'] >= 390 and row['diag_3'] <= 459):\n",
    "        df.loc[index, 'diag_3'] = 7\n",
    "    elif (row['diag_3'] >= 460 and row['diag_3'] <= 519):\n",
    "        df.loc[index, 'diag_3'] = 8\n",
    "    elif (row['diag_3'] >= 520  and row['diag_3'] <= 579):\n",
    "        df.loc[index, 'diag_3'] = 9\n",
    "    elif (row['diag_3'] >= 580 and row['diag_3'] <= 629):\n",
    "        df.loc[index, 'diag_3'] = 10\n",
    "    elif (row['diag_3'] >= 630 and row['diag_3'] <= 679):\n",
    "        df.loc[index, 'diag_3'] = 11\n",
    "    elif (row['diag_3'] >= 680 and row['diag_3'] <= 709):\n",
    "        df.loc[index, 'diag_3'] = 12\n",
    "    elif (row['diag_3'] >= 710  and row['diag_3'] <= 739):\n",
    "        df.loc[index, 'diag_3'] = 13\n",
    "    elif (row['diag_3'] >= 740 and row['diag_3'] <= 759):\n",
    "        df.loc[index, 'diag_3'] = 14\n",
    "    elif (row['diag_3'] >= 760 and row['diag_3'] <= 779):\n",
    "        df.loc[index, 'diag_3'] = 15\n",
    "    elif (row['diag_3'] >= 780 and row['diag_3'] <= 799):\n",
    "        df.loc[index, 'diag_3'] = 16\n",
    "    elif (row['diag_3'] >= 800  and row['diag_3'] <= 999):\n",
    "        df.loc[index, 'diag_3'] = 17"
   ]
  },
  {
   "cell_type": "code",
   "execution_count": 41,
   "metadata": {},
   "outputs": [],
   "source": [
    "# Modify race\n",
    "\n",
    "# import pandas as pd\n",
    "# import numpy as np\n",
    "# df = pd.read_csv('dataset_diabetes/diabetes_data_preprocessed.csv')\n",
    "\n",
    "df['race'] = df['race'].replace('Asian', 0)\n",
    "df['race'] = df['race'].replace('AfricanAmerican', 1)\n",
    "df['race'] = df['race'].replace('Caucasian', 2)\n",
    "df['race'] = df['race'].replace('Hispanic', 3)\n",
    "df['race'] = df['race'].replace('Other', 4)\n",
    "df['race'] = df['race'].replace('?', 4)"
   ]
  },
  {
   "cell_type": "code",
   "execution_count": 42,
   "metadata": {},
   "outputs": [],
   "source": [
    "# Modify admission_type_id\n",
    "\n",
    "df['admission_type_id'] = df['admission_type_id'].replace(2,1)\n",
    "df['admission_type_id'] = df['admission_type_id'].replace(4,1)\n",
    "df['admission_type_id'] = df['admission_type_id'].replace(7,1)\n",
    "\n",
    "df['admission_type_id'] = df['admission_type_id'].replace(5,0)\n",
    "df['admission_type_id'] = df['admission_type_id'].replace(6,0)\n",
    "df['admission_type_id'] = df['admission_type_id'].replace(8,0)\n",
    "\n",
    "df['admission_type_id'] = df['admission_type_id'].replace(3,3)\n",
    "\n",
    "df = df.join(pd.get_dummies(pd.DataFrame(df['admission_type_id'].astype('object'))))\n",
    "#print(df)"
   ]
  },
  {
   "cell_type": "code",
   "execution_count": 43,
   "metadata": {},
   "outputs": [],
   "source": [
    "# Modify discharge_disposition_id\n",
    "\n",
    "df['discharge_disposition_id'] = df['discharge_disposition_id'].replace(6,1)\n",
    "df['discharge_disposition_id'] = df['discharge_disposition_id'].replace(7,1)\n",
    "df['discharge_disposition_id'] = df['discharge_disposition_id'].replace(8,1)\n",
    "df['discharge_disposition_id'] = df['discharge_disposition_id'].replace(9,1)\n",
    "\n",
    "df['discharge_disposition_id'] = df['discharge_disposition_id'].replace(3,2)\n",
    "df['discharge_disposition_id'] = df['discharge_disposition_id'].replace(4,2)\n",
    "df['discharge_disposition_id'] = df['discharge_disposition_id'].replace(5,2)\n",
    "df['discharge_disposition_id'] = df['discharge_disposition_id'].replace(22,2)\n",
    "df['discharge_disposition_id'] = df['discharge_disposition_id'].replace(23,2)\n",
    "df['discharge_disposition_id'] = df['discharge_disposition_id'].replace(24,2)\n",
    "df['discharge_disposition_id'] = df['discharge_disposition_id'].replace(27,2)\n",
    "df['discharge_disposition_id'] = df['discharge_disposition_id'].replace(28,2)\n",
    "df['discharge_disposition_id'] = df['discharge_disposition_id'].replace(29,2)\n",
    "df['discharge_disposition_id'] = df['discharge_disposition_id'].replace(30,2)\n",
    "\n",
    "df['discharge_disposition_id'] = df['discharge_disposition_id'].replace(11,0)\n",
    "df['discharge_disposition_id'] = df['discharge_disposition_id'].replace(13,0)\n",
    "df['discharge_disposition_id'] = df['discharge_disposition_id'].replace(14,0)\n",
    "df['discharge_disposition_id'] = df['discharge_disposition_id'].replace(19,0)\n",
    "df['discharge_disposition_id'] = df['discharge_disposition_id'].replace(20,0)\n",
    "df['discharge_disposition_id'] = df['discharge_disposition_id'].replace(21,0)\n",
    "\n",
    "df['discharge_disposition_id'] = df['discharge_disposition_id'].replace(18,3)\n",
    "df['discharge_disposition_id'] = df['discharge_disposition_id'].replace(25,3)\n",
    "df['discharge_disposition_id'] = df['discharge_disposition_id'].replace(26,3)\n",
    "\n",
    "df['discharge_disposition_id'] = df['discharge_disposition_id'].replace(10,4)\n",
    "df['discharge_disposition_id'] = df['discharge_disposition_id'].replace(12,4)\n",
    "df['discharge_disposition_id'] = df['discharge_disposition_id'].replace(15,4)\n",
    "df['discharge_disposition_id'] = df['discharge_disposition_id'].replace(16,4)\n",
    "df['discharge_disposition_id'] = df['discharge_disposition_id'].replace(17,4)"
   ]
  },
  {
   "cell_type": "code",
   "execution_count": 18,
   "metadata": {},
   "outputs": [],
   "source": [
    "df = df.join(pd.get_dummies(pd.DataFrame(df['discharge_disposition_id'].astype('object'))))\n",
    "# print(df)"
   ]
  },
  {
   "cell_type": "code",
   "execution_count": 44,
   "metadata": {},
   "outputs": [],
   "source": [
    "# Modify Admission_source_id\n",
    "\n",
    "df['admission_source_id'] = df['admission_source_id'].replace(2,1)\n",
    "df['admission_source_id'] = df['admission_source_id'].replace(3,1)\n",
    "df['admission_source_id'] = df['admission_source_id'].replace(7,1)\n",
    "df['admission_source_id'] = df['admission_source_id'].replace(8,1)\n",
    "\n",
    "df['admission_source_id'] = df['admission_source_id'].replace(4,2)\n",
    "df['admission_source_id'] = df['admission_source_id'].replace(5,2)\n",
    "df['admission_source_id'] = df['admission_source_id'].replace(6,2)\n",
    "df['admission_source_id'] = df['admission_source_id'].replace(10,2)\n",
    "df['admission_source_id'] = df['admission_source_id'].replace(18,2)\n",
    "df['admission_source_id'] = df['admission_source_id'].replace(19,2)\n",
    "df['admission_source_id'] = df['admission_source_id'].replace(22,2)\n",
    "df['admission_source_id'] = df['admission_source_id'].replace(25,2)\n",
    "df['admission_source_id'] = df['admission_source_id'].replace(26,2)\n",
    "\n",
    "df['admission_source_id'] = df['admission_source_id'].replace(9,0)\n",
    "df['admission_source_id'] = df['admission_source_id'].replace(15,0)\n",
    "df['admission_source_id'] = df['admission_source_id'].replace(17,0)\n",
    "df['admission_source_id'] = df['admission_source_id'].replace(20,0)\n",
    "df['admission_source_id'] = df['admission_source_id'].replace(21,0)\n",
    "\n",
    "df['admission_source_id'] = df['admission_source_id'].replace(11,3)\n",
    "df['admission_source_id'] = df['admission_source_id'].replace(12,3)\n",
    "df['admission_source_id'] = df['admission_source_id'].replace(13,3)\n",
    "df['admission_source_id'] = df['admission_source_id'].replace(14,3)\n",
    "df['admission_source_id'] = df['admission_source_id'].replace(23,3)\n",
    "df['admission_source_id'] = df['admission_source_id'].replace(24,3)"
   ]
  },
  {
   "cell_type": "code",
   "execution_count": 20,
   "metadata": {},
   "outputs": [],
   "source": [
    "df = df.join(pd.get_dummies(pd.DataFrame(df['admission_source_id'].astype('object'))))\n",
    "# print(df)"
   ]
  },
  {
   "cell_type": "code",
   "execution_count": 21,
   "metadata": {},
   "outputs": [],
   "source": [
    "df = df.join(pd.get_dummies(pd.DataFrame(df['diabetesMed'])))\n",
    "# print(df)"
   ]
  },
  {
   "cell_type": "code",
   "execution_count": 45,
   "metadata": {},
   "outputs": [],
   "source": [
    "# Modify diabetesMed\n",
    "\n",
    "df['diabetesMed'] = df['diabetesMed'].replace('Yes', 1)\n",
    "df['diabetesMed'] = df['diabetesMed'].replace('No', 0)"
   ]
  },
  {
   "cell_type": "code",
   "execution_count": 46,
   "metadata": {},
   "outputs": [],
   "source": [
    "df['gender'] = df['gender'].replace('Male', 1)\n",
    "df['gender'] = df['gender'].replace('Female', 0)\n",
    "df['gender'] = df['gender'].replace('Unknown/Invalid', 0)"
   ]
  },
  {
   "cell_type": "code",
   "execution_count": 47,
   "metadata": {},
   "outputs": [],
   "source": [
    "# Modify change\n",
    "\n",
    "df['change'] = df['change'].replace('Ch', 1)\n",
    "df['change'] = df['change'].replace('No', 0)"
   ]
  },
  {
   "cell_type": "code",
   "execution_count": 48,
   "metadata": {},
   "outputs": [],
   "source": [
    "# Modify A1Cresult\n",
    "\n",
    "df['A1Cresult'] = df['A1Cresult'].replace('>7', 1)\n",
    "df['A1Cresult'] = df['A1Cresult'].replace('>8', 1)\n",
    "df['A1Cresult'] = df['A1Cresult'].replace('Norm', 0)\n",
    "df['A1Cresult'] = df['A1Cresult'].replace('None', -1)"
   ]
  },
  {
   "cell_type": "code",
   "execution_count": 49,
   "metadata": {},
   "outputs": [],
   "source": [
    "# Modify max_glu_serum\n",
    "\n",
    "df['max_glu_serum'] = df['max_glu_serum'].replace('>200', 1)\n",
    "df['max_glu_serum'] = df['max_glu_serum'].replace('>300', 1)\n",
    "df['max_glu_serum'] = df['max_glu_serum'].replace('Norm', 0)\n",
    "df['max_glu_serum'] = df['max_glu_serum'].replace('None', -1)"
   ]
  },
  {
   "cell_type": "code",
   "execution_count": 50,
   "metadata": {},
   "outputs": [],
   "source": [
    "# Modify age\n",
    "\n",
    "age_dict = {'[0-10)':5, '[10-20)':15, '[20-30)':25, '[30-40)':35, '[40-50)':45, '[50-60)':55, '[60-70)':65, '[70-80)':75, '[80-90)':85, '[90-100)':95 }\n",
    "\n",
    "df['age'] = df.age.map(age_dict)\n",
    "df['age'] = df['age'].astype('int64')"
   ]
  },
  {
   "cell_type": "code",
   "execution_count": 51,
   "metadata": {},
   "outputs": [],
   "source": [
    "df['num_total_procedures'] = df['num_lab_procedures'] + df['num_procedures']\n",
    "\n",
    "df = df.drop(['num_lab_procedures', 'num_procedures'], axis = 1)"
   ]
  },
  {
   "cell_type": "code",
   "execution_count": 52,
   "metadata": {},
   "outputs": [],
   "source": [
    "for index, row in df.iterrows():\n",
    "    if row['time_in_hospital'] <= 5:\n",
    "        df.loc[index, 'time_in_hospital'] = 0\n",
    "    elif row['time_in_hospital'] > 5:\n",
    "        df.loc[index, 'time_in_hospital'] = 1     "
   ]
  },
  {
   "cell_type": "code",
   "execution_count": 53,
   "metadata": {},
   "outputs": [],
   "source": [
    "for index, row in df.iterrows():\n",
    "    if row['num_total_procedures'] < 30:\n",
    "        df.loc[index, 'num_total_procedures'] = 0\n",
    "    elif row['num_total_procedures'] >= 30 and row['num_total_procedures'] <= 50:\n",
    "        df.loc[index, 'num_total_procedures'] = 1\n",
    "    elif row['num_total_procedures'] > 50:\n",
    "        df.loc[index, 'num_total_procedures'] = 2"
   ]
  },
  {
   "cell_type": "code",
   "execution_count": 54,
   "metadata": {},
   "outputs": [],
   "source": [
    "for index, row in df.iterrows():\n",
    "    if row['num_medications'] < 10:\n",
    "        df.loc[index, 'num_medications'] = 0\n",
    "    elif row['num_medications'] >= 10 and row['num_medications'] <= 20:\n",
    "        df.loc[index, 'num_medications'] = 1\n",
    "    elif row['num_medications'] > 20:\n",
    "        df.loc[index, 'num_medications'] = 2"
   ]
  },
  {
   "cell_type": "code",
   "execution_count": 55,
   "metadata": {},
   "outputs": [],
   "source": [
    "for index, row in df.iterrows():\n",
    "    if row['number_diagnoses'] <= 7:\n",
    "        df.loc[index, 'number_diagnoses'] = 0\n",
    "    elif row['number_diagnoses'] > 7:\n",
    "        df.loc[index, 'number_diagnoses'] = 1"
   ]
  },
  {
   "cell_type": "code",
   "execution_count": 56,
   "metadata": {},
   "outputs": [],
   "source": [
    "drugs_name = ['metformin', 'repaglinide', 'nateglinide', 'chlorpropamide', 'glimepiride', 'acetohexamide', 'glipizide', 'glyburide', 'tolbutamide', 'pioglitazone', 'rosiglitazone', 'acarbose', 'miglitol', 'troglitazone', 'tolazamide', 'insulin', 'glyburide-metformin', 'glipizide-metformin', 'glimepiride-pioglitazone', 'metformin-rosiglitazone', 'metformin-pioglitazone']\n",
    "\n",
    "for i in drugs_name:\n",
    "    df[i] = df[i].replace('Steady', 1)\n",
    "    df[i] = df[i].replace('No', 0)\n",
    "    df[i] = df[i].replace('Up', 1)\n",
    "    df[i] = df[i].replace('Down', 1)"
   ]
  },
  {
   "cell_type": "code",
   "execution_count": 57,
   "metadata": {},
   "outputs": [],
   "source": [
    "df['number_services'] = np.log1p(df['number_inpatient'] + df['number_outpatient'] + df['number_emergency'])\n",
    "\n",
    "# df['number_inpatient'] = np.log1p(df['number_inpatient'])\n",
    "\n",
    "# df['number_outpatient'] = np.log1p(df['number_outpatient'])\n",
    "\n",
    "# df['number_emergency'] = np.log1p(df['number_emergency'])"
   ]
  },
  {
   "cell_type": "code",
   "execution_count": 58,
   "metadata": {},
   "outputs": [
    {
     "name": "stdout",
     "output_type": "stream",
     "text": [
      "<class 'pandas.core.frame.DataFrame'>\n",
      "RangeIndex: 101766 entries, 0 to 101765\n",
      "Data columns (total 48 columns):\n",
      "encounter_id                101766 non-null int64\n",
      "patient_nbr                 101766 non-null int64\n",
      "race                        101766 non-null object\n",
      "gender                      101766 non-null object\n",
      "age                         101766 non-null int64\n",
      "admission_type_id           101766 non-null int64\n",
      "discharge_disposition_id    101766 non-null int64\n",
      "admission_source_id         101766 non-null int64\n",
      "time_in_hospital            101766 non-null int64\n",
      "num_medications             101766 non-null int64\n",
      "number_outpatient           101766 non-null int64\n",
      "number_emergency            101766 non-null int64\n",
      "number_inpatient            101766 non-null int64\n",
      "diag_1                      101766 non-null float64\n",
      "diag_2                      101766 non-null float64\n",
      "diag_3                      101766 non-null float64\n",
      "number_diagnoses            101766 non-null int64\n",
      "max_glu_serum               101766 non-null int64\n",
      "A1Cresult                   101766 non-null int64\n",
      "metformin                   101766 non-null int64\n",
      "repaglinide                 101766 non-null int64\n",
      "nateglinide                 101766 non-null int64\n",
      "chlorpropamide              101766 non-null int64\n",
      "glimepiride                 101766 non-null int64\n",
      "acetohexamide               101766 non-null int64\n",
      "glipizide                   101766 non-null int64\n",
      "glyburide                   101766 non-null int64\n",
      "tolbutamide                 101766 non-null int64\n",
      "pioglitazone                101766 non-null int64\n",
      "rosiglitazone               101766 non-null int64\n",
      "acarbose                    101766 non-null int64\n",
      "miglitol                    101766 non-null int64\n",
      "troglitazone                101766 non-null int64\n",
      "tolazamide                  101766 non-null int64\n",
      "insulin                     101766 non-null int64\n",
      "glyburide-metformin         101766 non-null int64\n",
      "glipizide-metformin         101766 non-null int64\n",
      "glimepiride-pioglitazone    101766 non-null int64\n",
      "metformin-rosiglitazone     101766 non-null int64\n",
      "metformin-pioglitazone      101766 non-null int64\n",
      "change                      101766 non-null int64\n",
      "diabetesMed                 101766 non-null int64\n",
      "readmitted                  101766 non-null object\n",
      "admission_type_id_0         101766 non-null uint8\n",
      "admission_type_id_1         101766 non-null uint8\n",
      "admission_type_id_3         101766 non-null uint8\n",
      "num_total_procedures        101766 non-null int64\n",
      "number_services             101766 non-null float64\n",
      "dtypes: float64(4), int64(38), object(3), uint8(3)\n",
      "memory usage: 35.2+ MB\n"
     ]
    }
   ],
   "source": [
    "df.info()"
   ]
  },
  {
   "cell_type": "code",
   "execution_count": 59,
   "metadata": {},
   "outputs": [],
   "source": [
    "df.to_csv('dataset_diabetes/diabetes_data_preprocessed.csv')"
   ]
  },
  {
   "cell_type": "code",
   "execution_count": 74,
   "metadata": {},
   "outputs": [],
   "source": [
    "df = pd.read_csv(\"dataset_diabetes/diabetes_data_preprocessed.csv\")"
   ]
  },
  {
   "cell_type": "code",
   "execution_count": 78,
   "metadata": {},
   "outputs": [],
   "source": [
    "def standardize(raw_data):\n",
    "    return ((raw_data - np.mean(raw_data, axis = 0)) / np.std(raw_data, axis = 0))\n",
    "numerics = [ 'age','time_in_hospital','number_emergency','number_inpatient','num_medications','number_outpatient',\n",
    "            'number_diagnoses','num_total_procedures']\n",
    "df[numerics] = standardize(df[numerics])\n",
    "import scipy.stats as sp\n",
    "df = df[(np.abs(sp.stats.zscore(df[numerics])) < 3).all(axis=1)]"
   ]
  },
  {
   "cell_type": "code",
   "execution_count": null,
   "metadata": {},
   "outputs": [],
   "source": []
  }
 ],
 "metadata": {
  "kernelspec": {
   "display_name": "Python 3",
   "language": "python",
   "name": "python3"
  },
  "language_info": {
   "codemirror_mode": {
    "name": "ipython",
    "version": 3
   },
   "file_extension": ".py",
   "mimetype": "text/x-python",
   "name": "python",
   "nbconvert_exporter": "python",
   "pygments_lexer": "ipython3",
   "version": "3.6.5"
  }
 },
 "nbformat": 4,
 "nbformat_minor": 2
}
