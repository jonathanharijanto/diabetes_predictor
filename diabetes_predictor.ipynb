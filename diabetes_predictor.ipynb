{
 "cells": [
  {
   "cell_type": "code",
   "execution_count": 6,
   "metadata": {},
   "outputs": [
    {
     "name": "stdout",
     "output_type": "stream",
     "text": [
      "7\n",
      "(array([[29731212, 4681989, 'Caucasian', ..., 'No', 'No', 'Yes'],\n",
      "       [180299598, 81466686, 'Caucasian', ..., 'No', 'Ch', 'Yes'],\n",
      "       [54012318, 55190016, 'Caucasian', ..., 'No', 'No', 'No'],\n",
      "       ...,\n",
      "       [131097066, 24218451, 'AfricanAmerican', ..., 'No', 'No', 'Yes'],\n",
      "       [183758118, 23186079, 'AfricanAmerican', ..., 'No', 'Ch', 'Yes'],\n",
      "       [209236266, 49288509, 'AfricanAmerican', ..., 'No', 'Ch', 'Yes']],\n",
      "      dtype=object), array([0, 0, 2, ..., 0, 0, 0]), array([[436765574, 85406454, 'Caucasian', ..., 'No', 'No', 'Yes'],\n",
      "       [15446892, 79963830, 'AfricanAmerican', ..., 'No', 'No', 'Yes'],\n",
      "       [47518116, 2912436, 'Caucasian', ..., 'No', 'No', 'Yes'],\n",
      "       ...,\n",
      "       [289020042, 38882943, 'Caucasian', ..., 'No', 'No', 'Yes'],\n",
      "       [438529178, 88785891, 'Caucasian', ..., 'No', 'No', 'No'],\n",
      "       [79571748, 2670120, 'Caucasian', ..., 'No', 'Ch', 'Yes']],\n",
      "      dtype=object), array([0, 0, 0, ..., 2, 2, 2]), array([[153548118, 100573605, 'Caucasian', ..., 'No', 'No', 'Yes'],\n",
      "       [37023612, 598338, 'Caucasian', ..., 'No', 'Ch', 'Yes'],\n",
      "       [151121442, 51819696, 'Caucasian', ..., 'No', 'No', 'Yes'],\n",
      "       ...,\n",
      "       [269113332, 85038084, 'Caucasian', ..., 'No', 'No', 'No'],\n",
      "       [37870290, 1281573, 'Caucasian', ..., 'No', 'No', 'No'],\n",
      "       [126311478, 23265909, 'AfricanAmerican', ..., 'No', 'Ch', 'Yes']],\n",
      "      dtype=object), array([0, 0, 0, ..., 2, 2, 2]), {'no': 0, '>30': 1, '<30': 2})\n",
      "82433\n"
     ]
    }
   ],
   "source": [
    "import data_loader\n",
    "\n",
    "the_data = data_loader.load_dataset(\"dataset_diabetes/diabetic_data.csv\")\n",
    "print(len(the_data))\n",
    "print(the_data)\n",
    "print(len(the_data[1]))\n"
   ]
  },
  {
   "cell_type": "code",
   "execution_count": null,
   "metadata": {},
   "outputs": [],
   "source": []
  }
 ],
 "metadata": {
  "kernelspec": {
   "display_name": "Python 3",
   "language": "python",
   "name": "python3"
  },
  "language_info": {
   "codemirror_mode": {
    "name": "ipython",
    "version": 3
   },
   "file_extension": ".py",
   "mimetype": "text/x-python",
   "name": "python",
   "nbconvert_exporter": "python",
   "pygments_lexer": "ipython3",
   "version": "3.6.5"
  }
 },
 "nbformat": 4,
 "nbformat_minor": 2
}
