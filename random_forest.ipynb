{
 "cells": [
  {
   "cell_type": "code",
   "execution_count": 43,
   "metadata": {
    "scrolled": true
   },
   "outputs": [
    {
     "name": "stdout",
     "output_type": "stream",
     "text": [
      "\n",
      "1. Train Features: --> len: 82433\n",
      "\n",
      "[[52770 155678574 84671190 ... 1 2 0.0]\n",
      " [101281 437320502 97591293 ... 0 0 0.0]\n",
      " [69646 198321774 49119741 ... 1 2 0.693147181]\n",
      " ...\n",
      " [49194 149196312 58719483 ... 0 0 0.693147181]\n",
      " [88890 286526682 69072498 ... 1 0 0.0]\n",
      " [31251 100471860 348696 ... 1 1 0.0]]\n",
      "\n",
      "2. Train Labels: --> len: 82433\n",
      "\n",
      "[2 2 0 ... 0 0 0]\n",
      "\n",
      "3. Valid Features: --> len: 9158\n",
      "\n",
      "[[101247 436765574 85406454 ... 1 0 1.098612289]\n",
      " [2348 15446892 79963830 ... 1 1 1.386294361]\n",
      " [11505 47518116 2912436 ... 1 1 0.0]\n",
      " ...\n",
      " [89452 289020042 38882943 ... 1 0 0.693147181]\n",
      " [101385 438529178 88785891 ... 0 0 2.7080502010000003]\n",
      " [23280 79571748 2670120 ... 1 1 1.791759469]]\n",
      "\n",
      "4. Valid Labels: --> len: 9158\n",
      "\n",
      "[0 0 0 ... 1 1 1]\n",
      "\n",
      "5. Test Features: --> len: 10175\n",
      "\n",
      "[[51502 153548118 100573605 ... 1 1 0.0]\n",
      " [8046 37023612 598338 ... 1 2 0.0]\n",
      " [50255 151121442 51819696 ... 1 0 0.0]\n",
      " ...\n",
      " [85073 269113332 85038084 ... 0 2 2.079441542]\n",
      " [8332 37870290 1281573 ... 0 2 0.0]\n",
      " [40701 126311478 23265909 ... 1 1 0.0]]\n",
      "\n",
      "6. Test Labels: --> len: 10175\n",
      "\n",
      "[0 0 0 ... 1 1 1]\n",
      "\n",
      "7. Label Dict: --> len: 3\n",
      "\n",
      "{'no': 0, '<30': 1, '>30': 2}\n"
     ]
    }
   ],
   "source": [
    "import data_loader\n",
    "import numpy as np\n",
    "import pandas as pd\n",
    "import xgboost as xgb\n",
    "\n",
    "the_data = data_loader.load_dataset(\"dataset_diabetes/diabetes_data_preprocessed_try2.csv\")\n",
    "#the_data = data_loader.load_dataset(\"dataset_diabetes/diabetic_data.csv\")\n",
    "#the_data = data_loader.load_dataset(\"dataset_diabetes/diabetes_data_test.csv\")\n",
    "outputs = [\"1. Train Features:\", \"2. Train Labels:\", \"3. Valid Features:\", \"4. Valid Labels:\", \"5. Test Features:\", \"6. Test Labels:\", \"7. Label Dict:\"]\n",
    "\n",
    "for i in range(len(the_data)):\n",
    "    print(\"\\n\" + outputs[i] + \" --> len: \" + str(len(the_data[i])) + \"\\n\\n\" + str(the_data[i]))"
   ]
  },
  {
   "cell_type": "code",
   "execution_count": 44,
   "metadata": {},
   "outputs": [
    {
     "name": "stdout",
     "output_type": "stream",
     "text": [
      "<class 'pandas.core.frame.DataFrame'>\n",
      "RangeIndex: 101766 entries, 0 to 101765\n",
      "Data columns (total 25 columns):\n",
      "Unnamed: 0                  101766 non-null int64\n",
      "encounter_id                101766 non-null int64\n",
      "patient_nbr                 101766 non-null int64\n",
      "race                        101766 non-null int64\n",
      "gender                      101766 non-null int64\n",
      "age                         101766 non-null int64\n",
      "admission_type_id           101766 non-null int64\n",
      "discharge_disposition_id    101766 non-null int64\n",
      "admission_source_id         101766 non-null int64\n",
      "time_in_hospital            101766 non-null int64\n",
      "num_medications             101766 non-null int64\n",
      "number_outpatient           101766 non-null int64\n",
      "number_emergency            101766 non-null int64\n",
      "number_inpatient            101766 non-null int64\n",
      "diag_1                      101766 non-null int64\n",
      "diag_2                      101766 non-null int64\n",
      "diag_3                      101766 non-null int64\n",
      "number_diagnoses            101766 non-null int64\n",
      "max_glu_serum               101766 non-null int64\n",
      "A1Cresult                   101766 non-null int64\n",
      "change                      101766 non-null int64\n",
      "diabetesMed                 101766 non-null int64\n",
      "num_total_procedures        101766 non-null int64\n",
      "number_services             101766 non-null float64\n",
      "readmitted                  101766 non-null object\n",
      "dtypes: float64(1), int64(23), object(1)\n",
      "memory usage: 19.4+ MB\n",
      "None\n"
     ]
    }
   ],
   "source": [
    "df = pd.read_csv(\"dataset_diabetes/diabetes_data_preprocessed_try2.csv\")\n",
    "\n",
    "print(df.info())"
   ]
  },
  {
   "cell_type": "code",
   "execution_count": 45,
   "metadata": {},
   "outputs": [],
   "source": [
    "X_train = the_data[0]\n",
    "Y_train = the_data[1]\n",
    "\n",
    "X_val = the_data[2]\n",
    "Y_val = the_data[3]\n",
    "\n",
    "X_test = the_data[4]\n",
    "Y_test = the_data[5]"
   ]
  },
  {
   "cell_type": "code",
   "execution_count": 89,
   "metadata": {},
   "outputs": [
    {
     "name": "stdout",
     "output_type": "stream",
     "text": [
      "Original dataset shape Counter({1: 44441, 0: 28792, 2: 9200})\n",
      "New dataset shape Counter({1: 44441, 0: 44441, 2: 44441})\n"
     ]
    }
   ],
   "source": [
    "from imblearn.over_sampling import SMOTE\n",
    "\n",
    "from collections import Counter\n",
    "\n",
    "print('Original dataset shape {}'.format(Counter(Y_train)))\n",
    "sm = SMOTE(random_state=20)\n",
    "X_train_new, Y_train_new = sm.fit_sample(X_train, Y_train)\n",
    "\n",
    "print('New dataset shape {}'.format(Counter(Y_train_new)))\n"
   ]
  },
  {
   "cell_type": "code",
   "execution_count": 48,
   "metadata": {},
   "outputs": [
    {
     "name": "stdout",
     "output_type": "stream",
     "text": [
      "0.5918867443863501\n",
      "0.5896483948460363\n",
      "0.5912530712530712\n"
     ]
    }
   ],
   "source": [
    "# RANDOM FOREST\n",
    "from sklearn.model_selection import cross_val_score\n",
    "from sklearn.ensemble import RandomForestClassifier\n",
    "from sklearn.metrics import accuracy_score, precision_score, recall_score, roc_auc_score\n",
    "\n",
    "# forest = RandomForestClassifier(n_estimators =100, max_depth=10, criterion = \"gini\", min_samples_split=10))\n",
    "#forest = RandomForestClassifier(n_estimators = 250, max_depth=5, criterion = \"gini\")\n",
    "forest = RandomForestClassifier()\n",
    "forest.fit(X_train, Y_train)\n",
    "Y_train_predict = forest.predict(X_train)\n",
    "print(accuracy_score(Y_train, Y_train_predict))\n",
    "Y_val_predict = forest.predict(X_val)\n",
    "print(accuracy_score(Y_val, Y_val_predict))\n",
    "Y_test_predict = forest.predict(X_test)\n",
    "print(accuracy_score(Y_test, Y_test_predict))\n",
    "\n",
    "# forest.fit(X_train_new, Y_train_new)\n",
    "# Y_tr_predict = forest.predict(X_train_new)\n",
    "# Y_val_predict = forest.predict(X_val)\n",
    "# print(accuracy_score(Y_val, Y_val_predict))"
   ]
  },
  {
   "cell_type": "code",
   "execution_count": 51,
   "metadata": {},
   "outputs": [
    {
     "name": "stderr",
     "output_type": "stream",
     "text": [
      "C:\\Users\\jonat\\Anaconda3\\lib\\site-packages\\sklearn\\preprocessing\\label.py:151: DeprecationWarning: The truth value of an empty array is ambiguous. Returning False, but in future this will result in an error. Use `array.size > 0` to check that an array is not empty.\n",
      "  if diff:\n"
     ]
    },
    {
     "name": "stdout",
     "output_type": "stream",
     "text": [
      "0.673468149891427\n"
     ]
    },
    {
     "name": "stderr",
     "output_type": "stream",
     "text": [
      "C:\\Users\\jonat\\Anaconda3\\lib\\site-packages\\sklearn\\preprocessing\\label.py:151: DeprecationWarning: The truth value of an empty array is ambiguous. Returning False, but in future this will result in an error. Use `array.size > 0` to check that an array is not empty.\n",
      "  if diff:\n"
     ]
    },
    {
     "name": "stdout",
     "output_type": "stream",
     "text": [
      "0.604062022275606\n",
      "0.6070761670761671\n"
     ]
    },
    {
     "name": "stderr",
     "output_type": "stream",
     "text": [
      "C:\\Users\\jonat\\Anaconda3\\lib\\site-packages\\sklearn\\preprocessing\\label.py:151: DeprecationWarning: The truth value of an empty array is ambiguous. Returning False, but in future this will result in an error. Use `array.size > 0` to check that an array is not empty.\n",
      "  if diff:\n"
     ]
    }
   ],
   "source": [
    "# XGBOOST\n",
    "\n",
    "from sklearn.model_selection import GridSearchCV\n",
    "from sklearn.metrics import accuracy_score, precision_score, recall_score, roc_auc_score\n",
    "\n",
    "#xg_reg = xgb.XGBClassifier()\n",
    "xg_reg = xgb.XGBClassifier(colsample_bytree=1, learning_rate=0.3, max_depth=5, n_estimators=250,\n",
    "                           objective='multi:softprob', subsample=1)\n",
    "xg_reg.fit(X_train,Y_train)\n",
    "# print(xg_reg)\n",
    "Y_train_predict = xg_reg.predict(X_train)\n",
    "print(accuracy_score(Y_train, Y_train_predict))\n",
    "Y_val_predict = xg_reg.predict(X_val)\n",
    "print(accuracy_score(Y_val, Y_val_predict))\n",
    "Y_test_predict = xg_reg.predict(X_test)\n",
    "print(accuracy_score(Y_test, Y_test_predict))\n",
    "\n",
    "param_test1 = {\n",
    " 'max_depth':range(3,10,2),\n",
    " 'min_child_weight':range(1,6,2)\n",
    "}\n",
    "\n",
    "# gsearch1 = GridSearchCV(estimator = xg_reg, param_grid = param_test1, n_jobs=4,iid=False, cv=5)\n",
    "# gsearch1.fit(X_train,Y_train)\n",
    "# gsearch1.best_params_, gsearch1.best_score_\n",
    "\n",
    "# xg_reg.fit(X_train_new, Y_train_new)\n",
    "# Y_val_predict = xg_reg.predict(X_val)\n",
    "# print(accuracy_score(Y_val, Y_val_predict))"
   ]
  },
  {
   "cell_type": "markdown",
   "metadata": {},
   "source": [
    "Most common parameters: learning_rate, max_depth, subsample, colsample_bytree, n_estimators, objective\n",
    "\n",
    "Default values: 0.1, 3, 1, 1, 100, multi:softprob"
   ]
  },
  {
   "cell_type": "code",
   "execution_count": 62,
   "metadata": {},
   "outputs": [
    {
     "name": "stdout",
     "output_type": "stream",
     "text": [
      "               0\n",
      "0   8.675844e-02\n",
      "1   7.913173e-02\n",
      "2   1.274580e-01\n",
      "3   2.483832e-02\n",
      "4   6.594382e-03\n",
      "5   1.876697e-02\n",
      "6   2.312031e-02\n",
      "7   1.984920e-02\n",
      "8   1.914721e-02\n",
      "9   2.934156e-02\n",
      "10  6.012551e-03\n",
      "11  4.626441e-03\n",
      "12  5.918271e-03\n",
      "13  1.406110e-03\n",
      "14  7.350208e-04\n",
      "15  1.612516e-04\n",
      "16  2.042008e-03\n",
      "17  3.848200e-06\n",
      "18  2.854848e-03\n",
      "19  2.985561e-03\n",
      "20  3.891459e-05\n",
      "21  2.285135e-03\n",
      "22  2.491441e-03\n",
      "23  7.254330e-04\n",
      "24  1.597318e-04\n",
      "25  6.915667e-06\n",
      "26  9.415406e-05\n",
      "27  5.301771e-03\n",
      "28  1.017739e-03\n",
      "29  2.197028e-05\n",
      "..           ...\n",
      "32  0.000000e+00\n",
      "33  4.417393e-03\n",
      "34  6.628135e-03\n",
      "35  4.586217e-03\n",
      "36  1.068643e-03\n",
      "37  5.382699e-03\n",
      "38  2.501364e-03\n",
      "39  5.603116e-03\n",
      "40  4.030161e-03\n",
      "41  3.964152e-03\n",
      "42  2.014256e-03\n",
      "43  3.435499e-03\n",
      "44  3.241681e-03\n",
      "45  2.819879e-03\n",
      "46  5.898359e-03\n",
      "47  6.959584e-03\n",
      "48  1.142811e-02\n",
      "49  8.745416e-02\n",
      "50  2.050315e-02\n",
      "51  1.452450e-02\n",
      "52  3.342623e-03\n",
      "53  5.218255e-04\n",
      "54  4.690008e-03\n",
      "55  8.581425e-03\n",
      "56  1.993122e-02\n",
      "57  5.241406e-07\n",
      "58  7.170470e-03\n",
      "59  7.343194e-03\n",
      "60  1.100247e-02\n",
      "61  2.670600e-01\n",
      "\n",
      "[62 rows x 1 columns]\n"
     ]
    }
   ],
   "source": [
    "import matplotlib.pyplot as plt\n",
    "import pandas as pd\n",
    "\n",
    "feature_imports = forest.feature_importances_\n",
    "most_imp_features = pd.DataFrame(feature_imports)\n",
    "print(most_imp_features)"
   ]
  },
  {
   "cell_type": "code",
   "execution_count": 45,
   "metadata": {},
   "outputs": [
    {
     "name": "stdout",
     "output_type": "stream",
     "text": [
      "36\n"
     ]
    }
   ],
   "source": [
    "feature_set_2_no_int = ['age', 'time_in_hospital', 'num_lab_procedures', 'num_procedures', 'service_utilization_log1p', \n",
    "                 'number_diagnoses', 'nummed', 'race_AfricanAmerican', 'race_Asian', \n",
    "                 'race_Caucasian', 'race_Hispanic', 'race_Other', 'gender_1', \n",
    "                 'admission_type_id_3', 'admission_type_id_4', 'admission_type_id_5', \n",
    "                 'discharge_disposition_id_2', 'discharge_disposition_id_7', \n",
    "                 'discharge_disposition_id_10', 'discharge_disposition_id_18', \n",
    "                 'admission_source_id_4', 'admission_source_id_7', 'admission_source_id_8', \n",
    "                 'admission_source_id_9', 'admission_source_id_11', 'numchange', \n",
    "                 'A1Cresult_0', 'A1Cresult_1',\n",
    "                 'level1_diag1_1.0',\n",
    "                 'level1_diag1_2.0',\n",
    "                 'level1_diag1_3.0',\n",
    "                 'level1_diag1_4.0',\n",
    "                 'level1_diag1_5.0',\n",
    "                 'level1_diag1_6.0',\n",
    "                 'level1_diag1_7.0',\n",
    "                 'level1_diag1_8.0']\n",
    "print(len(feature_set_2_no_int))"
   ]
  },
  {
   "cell_type": "code",
   "execution_count": null,
   "metadata": {},
   "outputs": [],
   "source": []
  }
 ],
 "metadata": {
  "kernelspec": {
   "display_name": "Python 3",
   "language": "python",
   "name": "python3"
  },
  "language_info": {
   "codemirror_mode": {
    "name": "ipython",
    "version": 3
   },
   "file_extension": ".py",
   "mimetype": "text/x-python",
   "name": "python",
   "nbconvert_exporter": "python",
   "pygments_lexer": "ipython3",
   "version": "3.6.5"
  }
 },
 "nbformat": 4,
 "nbformat_minor": 2
}
